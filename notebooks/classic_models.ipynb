{
 "cells": [
  {
   "cell_type": "code",
   "execution_count": 4,
   "id": "6c8d2a80",
   "metadata": {},
   "outputs": [],
   "source": [
    "from datetime import timedelta\n",
    "import warnings\n",
    "import itertools\n",
    "\n",
    "\n",
    "import polars as pl\n",
    "import pandas as pd\n",
    "import numpy as np\n",
    "import matplotlib.pyplot as plt\n",
    "from prophet import Prophet\n",
    "from statsmodels.tsa.arima.model import ARIMA\n",
    "import joblib\n",
    "import optuna\n",
    "from datetime import datetime\n",
    "\n",
    "warnings.filterwarnings(\"ignore\")"
   ]
  },
  {
   "cell_type": "markdown",
   "id": "ff96b7bf",
   "metadata": {},
   "source": [
    "## Train-test\n",
    "\n",
    "- We will take last hour as a test, one before as val and train across other samples.\n",
    "- The samples must be consistent among the blocks\n",
    "- We must not shuffle data since it's time-dependent"
   ]
  },
  {
   "cell_type": "code",
   "execution_count": 5,
   "id": "374e1ac2",
   "metadata": {},
   "outputs": [],
   "source": [
    "df_full_ticks = pl.read_parquet(\"../data/processed/tx_blocks_eth_clean.parquet\")"
   ]
  },
  {
   "cell_type": "code",
   "execution_count": 6,
   "id": "78f64acb",
   "metadata": {},
   "outputs": [
    {
     "name": "stdout",
     "output_type": "stream",
     "text": [
      "(1658540, 19)\n"
     ]
    },
    {
     "data": {
      "text/html": [
       "<div><style>\n",
       ".dataframe > thead > tr,\n",
       ".dataframe > tbody > tr {\n",
       "  text-align: right;\n",
       "  white-space: pre-wrap;\n",
       "}\n",
       "</style>\n",
       "<small>shape: (5, 19)</small><table border=\"1\" class=\"dataframe\"><thead><tr><th>cost</th><th>gas</th><th>gas_fee_cap</th><th>gas_price</th><th>tx_time</th><th>block_hash</th><th>base_fee</th><th>gas_limit</th><th>gas_used</th><th>block_time</th><th>open_time</th><th>close_time</th><th>open</th><th>high</th><th>low</th><th>close</th><th>volume</th><th>quote_asset_volume</th><th>number_of_trades</th></tr><tr><td>f64</td><td>f64</td><td>f64</td><td>f64</td><td>datetime[μs]</td><td>str</td><td>f64</td><td>f64</td><td>f64</td><td>datetime[μs]</td><td>datetime[μs]</td><td>datetime[μs]</td><td>f64</td><td>f64</td><td>f64</td><td>f64</td><td>f64</td><td>f64</td><td>f64</td></tr></thead><tbody><tr><td>-0.009676</td><td>1.43768</td><td>-0.159582</td><td>-0.159582</td><td>2025-04-13 13:22:59</td><td>&quot;0x8dde0f4ac2de2c39f15094639fb4…</td><td>0.152506</td><td>-0.50167</td><td>-0.50167</td><td>2025-04-13 13:22:59</td><td>2025-04-13 13:22:59</td><td>2025-04-13 13:22:59.000999</td><td>-0.765297</td><td>-0.76752</td><td>-0.763006</td><td>-0.765297</td><td>0.489824</td><td>0.478077</td><td>-0.186047</td></tr><tr><td>-0.021672</td><td>-0.151875</td><td>0.419496</td><td>0.419496</td><td>2025-04-13 13:22:59</td><td>&quot;0x8dde0f4ac2de2c39f15094639fb4…</td><td>0.152506</td><td>-0.50167</td><td>-0.50167</td><td>2025-04-13 13:22:59</td><td>2025-04-13 13:22:59</td><td>2025-04-13 13:22:59.000999</td><td>-0.765297</td><td>-0.76752</td><td>-0.763006</td><td>-0.765297</td><td>0.489824</td><td>0.478077</td><td>-0.186047</td></tr><tr><td>5.813776</td><td>0.622033</td><td>256.684807</td><td>256.684807</td><td>2025-04-13 13:22:59</td><td>&quot;0x8dde0f4ac2de2c39f15094639fb4…</td><td>0.152506</td><td>-0.50167</td><td>-0.50167</td><td>2025-04-13 13:22:59</td><td>2025-04-13 13:22:59</td><td>2025-04-13 13:22:59.000999</td><td>-0.765297</td><td>-0.76752</td><td>-0.763006</td><td>-0.765297</td><td>0.489824</td><td>0.478077</td><td>-0.186047</td></tr><tr><td>5.813776</td><td>0.622033</td><td>256.684807</td><td>256.684807</td><td>2025-04-13 13:22:59</td><td>&quot;0x8dde0f4ac2de2c39f15094639fb4…</td><td>0.152506</td><td>-0.50167</td><td>-0.50167</td><td>2025-04-13 13:22:59</td><td>2025-04-13 13:22:59</td><td>2025-04-13 13:22:59.000999</td><td>-0.765297</td><td>-0.76752</td><td>-0.763006</td><td>-0.765297</td><td>0.489824</td><td>0.478077</td><td>-0.186047</td></tr><tr><td>0.026129</td><td>0.461073</td><td>2.197437</td><td>2.197437</td><td>2025-04-13 13:22:59</td><td>&quot;0x8dde0f4ac2de2c39f15094639fb4…</td><td>0.152506</td><td>-0.50167</td><td>-0.50167</td><td>2025-04-13 13:22:59</td><td>2025-04-13 13:22:59</td><td>2025-04-13 13:22:59.000999</td><td>-0.765297</td><td>-0.76752</td><td>-0.763006</td><td>-0.765297</td><td>0.489824</td><td>0.478077</td><td>-0.186047</td></tr></tbody></table></div>"
      ],
      "text/plain": [
       "shape: (5, 19)\n",
       "┌───────────┬───────────┬───────────┬───────────┬───┬───────────┬──────────┬───────────┬───────────┐\n",
       "│ cost      ┆ gas       ┆ gas_fee_c ┆ gas_price ┆ … ┆ close     ┆ volume   ┆ quote_ass ┆ number_of │\n",
       "│ ---       ┆ ---       ┆ ap        ┆ ---       ┆   ┆ ---       ┆ ---      ┆ et_volume ┆ _trades   │\n",
       "│ f64       ┆ f64       ┆ ---       ┆ f64       ┆   ┆ f64       ┆ f64      ┆ ---       ┆ ---       │\n",
       "│           ┆           ┆ f64       ┆           ┆   ┆           ┆          ┆ f64       ┆ f64       │\n",
       "╞═══════════╪═══════════╪═══════════╪═══════════╪═══╪═══════════╪══════════╪═══════════╪═══════════╡\n",
       "│ -0.009676 ┆ 1.43768   ┆ -0.159582 ┆ -0.159582 ┆ … ┆ -0.765297 ┆ 0.489824 ┆ 0.478077  ┆ -0.186047 │\n",
       "│ -0.021672 ┆ -0.151875 ┆ 0.419496  ┆ 0.419496  ┆ … ┆ -0.765297 ┆ 0.489824 ┆ 0.478077  ┆ -0.186047 │\n",
       "│ 5.813776  ┆ 0.622033  ┆ 256.68480 ┆ 256.68480 ┆ … ┆ -0.765297 ┆ 0.489824 ┆ 0.478077  ┆ -0.186047 │\n",
       "│           ┆           ┆ 7         ┆ 7         ┆   ┆           ┆          ┆           ┆           │\n",
       "│ 5.813776  ┆ 0.622033  ┆ 256.68480 ┆ 256.68480 ┆ … ┆ -0.765297 ┆ 0.489824 ┆ 0.478077  ┆ -0.186047 │\n",
       "│           ┆           ┆ 7         ┆ 7         ┆   ┆           ┆          ┆           ┆           │\n",
       "│ 0.026129  ┆ 0.461073  ┆ 2.197437  ┆ 2.197437  ┆ … ┆ -0.765297 ┆ 0.489824 ┆ 0.478077  ┆ -0.186047 │\n",
       "└───────────┴───────────┴───────────┴───────────┴───┴───────────┴──────────┴───────────┴───────────┘"
      ]
     },
     "execution_count": 6,
     "metadata": {},
     "output_type": "execute_result"
    }
   ],
   "source": [
    "print(df_full_ticks.shape)\n",
    "df_full_ticks.head()"
   ]
  },
  {
   "cell_type": "code",
   "execution_count": 7,
   "id": "2fbd44ee",
   "metadata": {},
   "outputs": [
    {
     "data": {
      "text/plain": [
       "(datetime.datetime(2025, 4, 13, 12, 43, 23),\n",
       " datetime.datetime(2025, 4, 13, 11, 43, 23))"
      ]
     },
     "execution_count": 7,
     "metadata": {},
     "output_type": "execute_result"
    }
   ],
   "source": [
    "max_time = df_full_ticks[\"tx_time\"].max()\n",
    "test_threshold = max_time - timedelta(hours=1)\n",
    "val_threshold = test_threshold - timedelta(hours=1)\n",
    "\n",
    "test_threshold, val_threshold"
   ]
  },
  {
   "cell_type": "code",
   "execution_count": 8,
   "id": "c2334bd4",
   "metadata": {},
   "outputs": [],
   "source": [
    "df_blocks = df_full_ticks.group_by(\"block_hash\").agg(pl.col(\"tx_time\").min().alias(\"block_time\"))"
   ]
  },
  {
   "cell_type": "code",
   "execution_count": 9,
   "id": "bddea898",
   "metadata": {},
   "outputs": [],
   "source": [
    "df = df_full_ticks.join(df_blocks, on=\"block_hash\", how=\"left\")"
   ]
  },
  {
   "cell_type": "code",
   "execution_count": 10,
   "id": "50e00d6b",
   "metadata": {},
   "outputs": [],
   "source": [
    "train_df = df.filter(pl.col(\"block_time\") < val_threshold)\n",
    "val_df = df.filter((pl.col(\"block_time\") >= val_threshold) & (pl.col(\"block_time\") < test_threshold))\n",
    "test_df = df.filter(pl.col(\"block_time\") >= test_threshold)"
   ]
  },
  {
   "cell_type": "code",
   "execution_count": 11,
   "id": "c4ff6069",
   "metadata": {},
   "outputs": [
    {
     "data": {
      "text/plain": [
       "((1497811, 20), (85159, 20), (75570, 20))"
      ]
     },
     "execution_count": 11,
     "metadata": {},
     "output_type": "execute_result"
    }
   ],
   "source": [
    "train_df.shape, val_df.shape, test_df.shape"
   ]
  },
  {
   "cell_type": "code",
   "execution_count": 12,
   "id": "25215135",
   "metadata": {},
   "outputs": [
    {
     "data": {
      "text/plain": [
       "(1497811, 20)"
      ]
     },
     "execution_count": 12,
     "metadata": {},
     "output_type": "execute_result"
    }
   ],
   "source": [
    "train_df.shape"
   ]
  },
  {
   "cell_type": "markdown",
   "id": "a3358f14",
   "metadata": {},
   "source": [
    "## Methods for evaluation"
   ]
  },
  {
   "cell_type": "code",
   "execution_count": 13,
   "id": "e174dc1e",
   "metadata": {},
   "outputs": [],
   "source": [
    "def plot_predictions(y_true, y_pred, title=\"Predicted vs Actual Gas Price\"):\n",
    "    plt.figure(figsize=(10, 5))\n",
    "    plt.plot(y_true, label=\"Actual\")\n",
    "    plt.plot(y_pred, label=\"Predicted\")\n",
    "    plt.title(title)\n",
    "    plt.xlabel(\"Time step\")\n",
    "    plt.ylabel(\"Gas Price\")\n",
    "    plt.legend()\n",
    "    plt.show()\n",
    "\n",
    "def calculate_metrics(y_true, y_pred):\n",
    "    epsilon = 1e-8\n",
    "    mape = np.mean(np.abs((y_true - y_pred) / (y_true + epsilon))) * 100\n",
    "    mae = np.mean(np.abs(y_true - y_pred))\n",
    "    return {\"MAPE\": mape, \"MAE\": mae}"
   ]
  },
  {
   "cell_type": "markdown",
   "id": "6f520088",
   "metadata": {},
   "source": [
    "## Models"
   ]
  },
  {
   "cell_type": "markdown",
   "id": "cc41d6ff",
   "metadata": {},
   "source": [
    "Since our task is to measure the quality of classical algorithms for predicting time series, we assign a pseudo-time to each transaction: `block_time + i / n`, where `i` is the transaction index in the block, `n` is the number of transactions."
   ]
  },
  {
   "cell_type": "code",
   "execution_count": 14,
   "id": "cd866b31",
   "metadata": {},
   "outputs": [],
   "source": [
    "def add_pseudo_time(df: pd.DataFrame) -> pd.DataFrame:\n",
    "    df_copy = df.copy(deep=True)\n",
    "\n",
    "    df_copy[\"block_time\"] = pd.to_datetime(df_copy[\"block_time\"], unit=\"s\")\n",
    "    df_copy[\"block_timestamp\"] = df_copy[\"block_time\"].astype(\"int\") // 10**6\n",
    "\n",
    "    df_copy[\"n_in_block\"] = df_copy.groupby(\"block_hash\")[\"block_hash\"].transform(\"count\")\n",
    "    df_copy[\"tx_index_in_block\"] = df_copy.groupby(\"block_hash\").cumcount()\n",
    "\n",
    "    df_copy[\"tx_timestamp\"] = df_copy[\"block_timestamp\"] + df_copy[\"tx_index_in_block\"] / df_copy[\"n_in_block\"]\n",
    "\n",
    "    df_copy[\"tx_time\"] = pd.to_datetime(df_copy[\"tx_timestamp\"], unit=\"s\")\n",
    "    \n",
    "    df_copy = df_copy.drop(columns=[\n",
    "        \"block_timestamp\", \"tx_index_in_block\", \"n_in_block\", \"tx_timestamp\"\n",
    "    ])\n",
    "\n",
    "    return df_copy"
   ]
  },
  {
   "cell_type": "code",
   "execution_count": 15,
   "id": "38bf48f1",
   "metadata": {},
   "outputs": [
    {
     "data": {
      "text/html": [
       "<div>\n",
       "<style scoped>\n",
       "    .dataframe tbody tr th:only-of-type {\n",
       "        vertical-align: middle;\n",
       "    }\n",
       "\n",
       "    .dataframe tbody tr th {\n",
       "        vertical-align: top;\n",
       "    }\n",
       "\n",
       "    .dataframe thead th {\n",
       "        text-align: right;\n",
       "    }\n",
       "</style>\n",
       "<table border=\"1\" class=\"dataframe\">\n",
       "  <thead>\n",
       "    <tr style=\"text-align: right;\">\n",
       "      <th></th>\n",
       "      <th>gas_price</th>\n",
       "      <th>block_time</th>\n",
       "      <th>block_hash</th>\n",
       "      <th>tx_time</th>\n",
       "    </tr>\n",
       "  </thead>\n",
       "  <tbody>\n",
       "    <tr>\n",
       "      <th>0</th>\n",
       "      <td>-0.391126</td>\n",
       "      <td>2025-04-13 11:43:11</td>\n",
       "      <td>0x23300a699a06d1a2216329f153384b182ed3c8e1f546...</td>\n",
       "      <td>2025-04-13 11:43:11.000000000</td>\n",
       "    </tr>\n",
       "    <tr>\n",
       "      <th>1</th>\n",
       "      <td>16.307945</td>\n",
       "      <td>2025-04-13 11:43:11</td>\n",
       "      <td>0x23300a699a06d1a2216329f153384b182ed3c8e1f546...</td>\n",
       "      <td>2025-04-13 11:43:11.002890110</td>\n",
       "    </tr>\n",
       "    <tr>\n",
       "      <th>2</th>\n",
       "      <td>-0.204321</td>\n",
       "      <td>2025-04-13 11:43:11</td>\n",
       "      <td>0x23300a699a06d1a2216329f153384b182ed3c8e1f546...</td>\n",
       "      <td>2025-04-13 11:43:11.005780458</td>\n",
       "    </tr>\n",
       "    <tr>\n",
       "      <th>3</th>\n",
       "      <td>-0.389571</td>\n",
       "      <td>2025-04-13 11:43:11</td>\n",
       "      <td>0x23300a699a06d1a2216329f153384b182ed3c8e1f546...</td>\n",
       "      <td>2025-04-13 11:43:11.008670568</td>\n",
       "    </tr>\n",
       "    <tr>\n",
       "      <th>4</th>\n",
       "      <td>-0.374927</td>\n",
       "      <td>2025-04-13 11:43:11</td>\n",
       "      <td>0x23300a699a06d1a2216329f153384b182ed3c8e1f546...</td>\n",
       "      <td>2025-04-13 11:43:11.011560678</td>\n",
       "    </tr>\n",
       "    <tr>\n",
       "      <th>...</th>\n",
       "      <td>...</td>\n",
       "      <td>...</td>\n",
       "      <td>...</td>\n",
       "      <td>...</td>\n",
       "    </tr>\n",
       "    <tr>\n",
       "      <th>1497806</th>\n",
       "      <td>2.918082</td>\n",
       "      <td>2025-04-13 04:18:35</td>\n",
       "      <td>0x73dc6cf289cd2f4bd4260836ab091cfbc6dd962aeace...</td>\n",
       "      <td>2025-04-13 04:18:35.980620146</td>\n",
       "    </tr>\n",
       "    <tr>\n",
       "      <th>1497807</th>\n",
       "      <td>51.672558</td>\n",
       "      <td>2025-04-13 04:18:35</td>\n",
       "      <td>0x73dc6cf289cd2f4bd4260836ab091cfbc6dd962aeace...</td>\n",
       "      <td>2025-04-13 04:18:35.984496117</td>\n",
       "    </tr>\n",
       "    <tr>\n",
       "      <th>1497808</th>\n",
       "      <td>0.686325</td>\n",
       "      <td>2025-04-13 04:18:35</td>\n",
       "      <td>0x73dc6cf289cd2f4bd4260836ab091cfbc6dd962aeace...</td>\n",
       "      <td>2025-04-13 04:18:35.988372087</td>\n",
       "    </tr>\n",
       "    <tr>\n",
       "      <th>1497809</th>\n",
       "      <td>51.672558</td>\n",
       "      <td>2025-04-13 04:18:35</td>\n",
       "      <td>0x73dc6cf289cd2f4bd4260836ab091cfbc6dd962aeace...</td>\n",
       "      <td>2025-04-13 04:18:35.992248058</td>\n",
       "    </tr>\n",
       "    <tr>\n",
       "      <th>1497810</th>\n",
       "      <td>51.672558</td>\n",
       "      <td>2025-04-13 04:18:35</td>\n",
       "      <td>0x73dc6cf289cd2f4bd4260836ab091cfbc6dd962aeace...</td>\n",
       "      <td>2025-04-13 04:18:35.996124029</td>\n",
       "    </tr>\n",
       "  </tbody>\n",
       "</table>\n",
       "<p>1497811 rows × 4 columns</p>\n",
       "</div>"
      ],
      "text/plain": [
       "         gas_price          block_time  \\\n",
       "0        -0.391126 2025-04-13 11:43:11   \n",
       "1        16.307945 2025-04-13 11:43:11   \n",
       "2        -0.204321 2025-04-13 11:43:11   \n",
       "3        -0.389571 2025-04-13 11:43:11   \n",
       "4        -0.374927 2025-04-13 11:43:11   \n",
       "...            ...                 ...   \n",
       "1497806   2.918082 2025-04-13 04:18:35   \n",
       "1497807  51.672558 2025-04-13 04:18:35   \n",
       "1497808   0.686325 2025-04-13 04:18:35   \n",
       "1497809  51.672558 2025-04-13 04:18:35   \n",
       "1497810  51.672558 2025-04-13 04:18:35   \n",
       "\n",
       "                                                block_hash  \\\n",
       "0        0x23300a699a06d1a2216329f153384b182ed3c8e1f546...   \n",
       "1        0x23300a699a06d1a2216329f153384b182ed3c8e1f546...   \n",
       "2        0x23300a699a06d1a2216329f153384b182ed3c8e1f546...   \n",
       "3        0x23300a699a06d1a2216329f153384b182ed3c8e1f546...   \n",
       "4        0x23300a699a06d1a2216329f153384b182ed3c8e1f546...   \n",
       "...                                                    ...   \n",
       "1497806  0x73dc6cf289cd2f4bd4260836ab091cfbc6dd962aeace...   \n",
       "1497807  0x73dc6cf289cd2f4bd4260836ab091cfbc6dd962aeace...   \n",
       "1497808  0x73dc6cf289cd2f4bd4260836ab091cfbc6dd962aeace...   \n",
       "1497809  0x73dc6cf289cd2f4bd4260836ab091cfbc6dd962aeace...   \n",
       "1497810  0x73dc6cf289cd2f4bd4260836ab091cfbc6dd962aeace...   \n",
       "\n",
       "                              tx_time  \n",
       "0       2025-04-13 11:43:11.000000000  \n",
       "1       2025-04-13 11:43:11.002890110  \n",
       "2       2025-04-13 11:43:11.005780458  \n",
       "3       2025-04-13 11:43:11.008670568  \n",
       "4       2025-04-13 11:43:11.011560678  \n",
       "...                               ...  \n",
       "1497806 2025-04-13 04:18:35.980620146  \n",
       "1497807 2025-04-13 04:18:35.984496117  \n",
       "1497808 2025-04-13 04:18:35.988372087  \n",
       "1497809 2025-04-13 04:18:35.992248058  \n",
       "1497810 2025-04-13 04:18:35.996124029  \n",
       "\n",
       "[1497811 rows x 4 columns]"
      ]
     },
     "execution_count": 15,
     "metadata": {},
     "output_type": "execute_result"
    }
   ],
   "source": [
    "train_df_pd = train_df.select([\"gas_price\", \"block_time\", \"block_hash\"]).to_pandas()\n",
    "\n",
    "train_df_pd = add_pseudo_time(train_df_pd)\n",
    "train_df_pd"
   ]
  },
  {
   "cell_type": "code",
   "execution_count": 16,
   "id": "34624af4",
   "metadata": {},
   "outputs": [
    {
     "data": {
      "text/html": [
       "<div>\n",
       "<style scoped>\n",
       "    .dataframe tbody tr th:only-of-type {\n",
       "        vertical-align: middle;\n",
       "    }\n",
       "\n",
       "    .dataframe tbody tr th {\n",
       "        vertical-align: top;\n",
       "    }\n",
       "\n",
       "    .dataframe thead th {\n",
       "        text-align: right;\n",
       "    }\n",
       "</style>\n",
       "<table border=\"1\" class=\"dataframe\">\n",
       "  <thead>\n",
       "    <tr style=\"text-align: right;\">\n",
       "      <th></th>\n",
       "      <th>gas_price</th>\n",
       "      <th>block_time</th>\n",
       "      <th>block_hash</th>\n",
       "      <th>tx_time</th>\n",
       "    </tr>\n",
       "  </thead>\n",
       "  <tbody>\n",
       "    <tr>\n",
       "      <th>0</th>\n",
       "      <td>-0.375572</td>\n",
       "      <td>2025-04-13 12:43:11</td>\n",
       "      <td>0x8c394fa19ac8e73b238a442673807f596578f811240f...</td>\n",
       "      <td>2025-04-13 12:43:11.000000000</td>\n",
       "    </tr>\n",
       "    <tr>\n",
       "      <th>1</th>\n",
       "      <td>-0.307456</td>\n",
       "      <td>2025-04-13 12:43:11</td>\n",
       "      <td>0x8c394fa19ac8e73b238a442673807f596578f811240f...</td>\n",
       "      <td>2025-04-13 12:43:11.005618095</td>\n",
       "    </tr>\n",
       "    <tr>\n",
       "      <th>2</th>\n",
       "      <td>-0.307456</td>\n",
       "      <td>2025-04-13 12:43:11</td>\n",
       "      <td>0x8c394fa19ac8e73b238a442673807f596578f811240f...</td>\n",
       "      <td>2025-04-13 12:43:11.011235952</td>\n",
       "    </tr>\n",
       "    <tr>\n",
       "      <th>3</th>\n",
       "      <td>-0.172346</td>\n",
       "      <td>2025-04-13 12:43:11</td>\n",
       "      <td>0x8c394fa19ac8e73b238a442673807f596578f811240f...</td>\n",
       "      <td>2025-04-13 12:43:11.016854048</td>\n",
       "    </tr>\n",
       "    <tr>\n",
       "      <th>4</th>\n",
       "      <td>-0.305184</td>\n",
       "      <td>2025-04-13 12:43:11</td>\n",
       "      <td>0x8c394fa19ac8e73b238a442673807f596578f811240f...</td>\n",
       "      <td>2025-04-13 12:43:11.022471905</td>\n",
       "    </tr>\n",
       "    <tr>\n",
       "      <th>...</th>\n",
       "      <td>...</td>\n",
       "      <td>...</td>\n",
       "      <td>...</td>\n",
       "      <td>...</td>\n",
       "    </tr>\n",
       "    <tr>\n",
       "      <th>85154</th>\n",
       "      <td>-0.349337</td>\n",
       "      <td>2025-04-13 11:43:23</td>\n",
       "      <td>0xa59a33333829a72e874a5149bd10763db18c10568ccf...</td>\n",
       "      <td>2025-04-13 11:43:23.981060505</td>\n",
       "    </tr>\n",
       "    <tr>\n",
       "      <th>85155</th>\n",
       "      <td>0.551347</td>\n",
       "      <td>2025-04-13 11:43:23</td>\n",
       "      <td>0xa59a33333829a72e874a5149bd10763db18c10568ccf...</td>\n",
       "      <td>2025-04-13 11:43:23.984848499</td>\n",
       "    </tr>\n",
       "    <tr>\n",
       "      <th>85156</th>\n",
       "      <td>4.018813</td>\n",
       "      <td>2025-04-13 11:43:23</td>\n",
       "      <td>0xa59a33333829a72e874a5149bd10763db18c10568ccf...</td>\n",
       "      <td>2025-04-13 11:43:23.988636255</td>\n",
       "    </tr>\n",
       "    <tr>\n",
       "      <th>85157</th>\n",
       "      <td>12.421224</td>\n",
       "      <td>2025-04-13 11:43:23</td>\n",
       "      <td>0xa59a33333829a72e874a5149bd10763db18c10568ccf...</td>\n",
       "      <td>2025-04-13 11:43:23.992424250</td>\n",
       "    </tr>\n",
       "    <tr>\n",
       "      <th>85158</th>\n",
       "      <td>22.671837</td>\n",
       "      <td>2025-04-13 11:43:23</td>\n",
       "      <td>0xa59a33333829a72e874a5149bd10763db18c10568ccf...</td>\n",
       "      <td>2025-04-13 11:43:23.996212006</td>\n",
       "    </tr>\n",
       "  </tbody>\n",
       "</table>\n",
       "<p>85159 rows × 4 columns</p>\n",
       "</div>"
      ],
      "text/plain": [
       "       gas_price          block_time  \\\n",
       "0      -0.375572 2025-04-13 12:43:11   \n",
       "1      -0.307456 2025-04-13 12:43:11   \n",
       "2      -0.307456 2025-04-13 12:43:11   \n",
       "3      -0.172346 2025-04-13 12:43:11   \n",
       "4      -0.305184 2025-04-13 12:43:11   \n",
       "...          ...                 ...   \n",
       "85154  -0.349337 2025-04-13 11:43:23   \n",
       "85155   0.551347 2025-04-13 11:43:23   \n",
       "85156   4.018813 2025-04-13 11:43:23   \n",
       "85157  12.421224 2025-04-13 11:43:23   \n",
       "85158  22.671837 2025-04-13 11:43:23   \n",
       "\n",
       "                                              block_hash  \\\n",
       "0      0x8c394fa19ac8e73b238a442673807f596578f811240f...   \n",
       "1      0x8c394fa19ac8e73b238a442673807f596578f811240f...   \n",
       "2      0x8c394fa19ac8e73b238a442673807f596578f811240f...   \n",
       "3      0x8c394fa19ac8e73b238a442673807f596578f811240f...   \n",
       "4      0x8c394fa19ac8e73b238a442673807f596578f811240f...   \n",
       "...                                                  ...   \n",
       "85154  0xa59a33333829a72e874a5149bd10763db18c10568ccf...   \n",
       "85155  0xa59a33333829a72e874a5149bd10763db18c10568ccf...   \n",
       "85156  0xa59a33333829a72e874a5149bd10763db18c10568ccf...   \n",
       "85157  0xa59a33333829a72e874a5149bd10763db18c10568ccf...   \n",
       "85158  0xa59a33333829a72e874a5149bd10763db18c10568ccf...   \n",
       "\n",
       "                            tx_time  \n",
       "0     2025-04-13 12:43:11.000000000  \n",
       "1     2025-04-13 12:43:11.005618095  \n",
       "2     2025-04-13 12:43:11.011235952  \n",
       "3     2025-04-13 12:43:11.016854048  \n",
       "4     2025-04-13 12:43:11.022471905  \n",
       "...                             ...  \n",
       "85154 2025-04-13 11:43:23.981060505  \n",
       "85155 2025-04-13 11:43:23.984848499  \n",
       "85156 2025-04-13 11:43:23.988636255  \n",
       "85157 2025-04-13 11:43:23.992424250  \n",
       "85158 2025-04-13 11:43:23.996212006  \n",
       "\n",
       "[85159 rows x 4 columns]"
      ]
     },
     "execution_count": 16,
     "metadata": {},
     "output_type": "execute_result"
    }
   ],
   "source": [
    "val_df_pd = val_df.select([\"gas_price\", \"block_time\", \"block_hash\"]).to_pandas()\n",
    "\n",
    "val_df_pd = add_pseudo_time(val_df_pd)\n",
    "val_df_pd"
   ]
  },
  {
   "cell_type": "code",
   "execution_count": 17,
   "id": "f1168286",
   "metadata": {},
   "outputs": [
    {
     "data": {
      "text/html": [
       "<div>\n",
       "<style scoped>\n",
       "    .dataframe tbody tr th:only-of-type {\n",
       "        vertical-align: middle;\n",
       "    }\n",
       "\n",
       "    .dataframe tbody tr th {\n",
       "        vertical-align: top;\n",
       "    }\n",
       "\n",
       "    .dataframe thead th {\n",
       "        text-align: right;\n",
       "    }\n",
       "</style>\n",
       "<table border=\"1\" class=\"dataframe\">\n",
       "  <thead>\n",
       "    <tr style=\"text-align: right;\">\n",
       "      <th></th>\n",
       "      <th>gas_price</th>\n",
       "      <th>block_time</th>\n",
       "      <th>block_hash</th>\n",
       "      <th>tx_time</th>\n",
       "    </tr>\n",
       "  </thead>\n",
       "  <tbody>\n",
       "    <tr>\n",
       "      <th>0</th>\n",
       "      <td>-0.159582</td>\n",
       "      <td>2025-04-13 13:22:59</td>\n",
       "      <td>0x8dde0f4ac2de2c39f15094639fb4f18bc61e57fefba7...</td>\n",
       "      <td>2025-04-13 13:22:59.000000000</td>\n",
       "    </tr>\n",
       "    <tr>\n",
       "      <th>1</th>\n",
       "      <td>0.419496</td>\n",
       "      <td>2025-04-13 13:22:59</td>\n",
       "      <td>0x8dde0f4ac2de2c39f15094639fb4f18bc61e57fefba7...</td>\n",
       "      <td>2025-04-13 13:22:59.002146006</td>\n",
       "    </tr>\n",
       "    <tr>\n",
       "      <th>2</th>\n",
       "      <td>256.684807</td>\n",
       "      <td>2025-04-13 13:22:59</td>\n",
       "      <td>0x8dde0f4ac2de2c39f15094639fb4f18bc61e57fefba7...</td>\n",
       "      <td>2025-04-13 13:22:59.004291773</td>\n",
       "    </tr>\n",
       "    <tr>\n",
       "      <th>3</th>\n",
       "      <td>256.684807</td>\n",
       "      <td>2025-04-13 13:22:59</td>\n",
       "      <td>0x8dde0f4ac2de2c39f15094639fb4f18bc61e57fefba7...</td>\n",
       "      <td>2025-04-13 13:22:59.006437778</td>\n",
       "    </tr>\n",
       "    <tr>\n",
       "      <th>4</th>\n",
       "      <td>2.197437</td>\n",
       "      <td>2025-04-13 13:22:59</td>\n",
       "      <td>0x8dde0f4ac2de2c39f15094639fb4f18bc61e57fefba7...</td>\n",
       "      <td>2025-04-13 13:22:59.008583784</td>\n",
       "    </tr>\n",
       "    <tr>\n",
       "      <th>...</th>\n",
       "      <td>...</td>\n",
       "      <td>...</td>\n",
       "      <td>...</td>\n",
       "      <td>...</td>\n",
       "    </tr>\n",
       "    <tr>\n",
       "      <th>75565</th>\n",
       "      <td>2.167828</td>\n",
       "      <td>2025-04-13 12:43:23</td>\n",
       "      <td>0x8939bcb4ceac91df0861b4fbbd44e6a9d6994df4e4ee...</td>\n",
       "      <td>2025-04-13 12:43:23.992284060</td>\n",
       "    </tr>\n",
       "    <tr>\n",
       "      <th>75566</th>\n",
       "      <td>2.690797</td>\n",
       "      <td>2025-04-13 12:43:23</td>\n",
       "      <td>0x8939bcb4ceac91df0861b4fbbd44e6a9d6994df4e4ee...</td>\n",
       "      <td>2025-04-13 12:43:23.993827105</td>\n",
       "    </tr>\n",
       "    <tr>\n",
       "      <th>75567</th>\n",
       "      <td>4.519741</td>\n",
       "      <td>2025-04-13 12:43:23</td>\n",
       "      <td>0x8939bcb4ceac91df0861b4fbbd44e6a9d6994df4e4ee...</td>\n",
       "      <td>2025-04-13 12:43:23.995370388</td>\n",
       "    </tr>\n",
       "    <tr>\n",
       "      <th>75568</th>\n",
       "      <td>5.412400</td>\n",
       "      <td>2025-04-13 12:43:23</td>\n",
       "      <td>0x8939bcb4ceac91df0861b4fbbd44e6a9d6994df4e4ee...</td>\n",
       "      <td>2025-04-13 12:43:23.996913671</td>\n",
       "    </tr>\n",
       "    <tr>\n",
       "      <th>75569</th>\n",
       "      <td>7.864773</td>\n",
       "      <td>2025-04-13 12:43:23</td>\n",
       "      <td>0x8939bcb4ceac91df0861b4fbbd44e6a9d6994df4e4ee...</td>\n",
       "      <td>2025-04-13 12:43:23.998456717</td>\n",
       "    </tr>\n",
       "  </tbody>\n",
       "</table>\n",
       "<p>75570 rows × 4 columns</p>\n",
       "</div>"
      ],
      "text/plain": [
       "        gas_price          block_time  \\\n",
       "0       -0.159582 2025-04-13 13:22:59   \n",
       "1        0.419496 2025-04-13 13:22:59   \n",
       "2      256.684807 2025-04-13 13:22:59   \n",
       "3      256.684807 2025-04-13 13:22:59   \n",
       "4        2.197437 2025-04-13 13:22:59   \n",
       "...           ...                 ...   \n",
       "75565    2.167828 2025-04-13 12:43:23   \n",
       "75566    2.690797 2025-04-13 12:43:23   \n",
       "75567    4.519741 2025-04-13 12:43:23   \n",
       "75568    5.412400 2025-04-13 12:43:23   \n",
       "75569    7.864773 2025-04-13 12:43:23   \n",
       "\n",
       "                                              block_hash  \\\n",
       "0      0x8dde0f4ac2de2c39f15094639fb4f18bc61e57fefba7...   \n",
       "1      0x8dde0f4ac2de2c39f15094639fb4f18bc61e57fefba7...   \n",
       "2      0x8dde0f4ac2de2c39f15094639fb4f18bc61e57fefba7...   \n",
       "3      0x8dde0f4ac2de2c39f15094639fb4f18bc61e57fefba7...   \n",
       "4      0x8dde0f4ac2de2c39f15094639fb4f18bc61e57fefba7...   \n",
       "...                                                  ...   \n",
       "75565  0x8939bcb4ceac91df0861b4fbbd44e6a9d6994df4e4ee...   \n",
       "75566  0x8939bcb4ceac91df0861b4fbbd44e6a9d6994df4e4ee...   \n",
       "75567  0x8939bcb4ceac91df0861b4fbbd44e6a9d6994df4e4ee...   \n",
       "75568  0x8939bcb4ceac91df0861b4fbbd44e6a9d6994df4e4ee...   \n",
       "75569  0x8939bcb4ceac91df0861b4fbbd44e6a9d6994df4e4ee...   \n",
       "\n",
       "                            tx_time  \n",
       "0     2025-04-13 13:22:59.000000000  \n",
       "1     2025-04-13 13:22:59.002146006  \n",
       "2     2025-04-13 13:22:59.004291773  \n",
       "3     2025-04-13 13:22:59.006437778  \n",
       "4     2025-04-13 13:22:59.008583784  \n",
       "...                             ...  \n",
       "75565 2025-04-13 12:43:23.992284060  \n",
       "75566 2025-04-13 12:43:23.993827105  \n",
       "75567 2025-04-13 12:43:23.995370388  \n",
       "75568 2025-04-13 12:43:23.996913671  \n",
       "75569 2025-04-13 12:43:23.998456717  \n",
       "\n",
       "[75570 rows x 4 columns]"
      ]
     },
     "execution_count": 17,
     "metadata": {},
     "output_type": "execute_result"
    }
   ],
   "source": [
    "test_df_pd = test_df.select([\"gas_price\", \"block_time\", \"block_hash\"]).to_pandas()\n",
    "\n",
    "test_df_pd = add_pseudo_time(test_df_pd)\n",
    "test_df_pd"
   ]
  },
  {
   "cell_type": "markdown",
   "id": "7aa2097e",
   "metadata": {},
   "source": [
    "### Prophet"
   ]
  },
  {
   "cell_type": "code",
   "execution_count": 18,
   "id": "1e21ac08",
   "metadata": {},
   "outputs": [],
   "source": [
    "df_prophet = train_df_pd.rename(columns={\"tx_time\": \"ds\", \"gas_price\": \"y\"})"
   ]
  },
  {
   "cell_type": "code",
   "execution_count": 19,
   "id": "43b4bc77",
   "metadata": {},
   "outputs": [
    {
     "name": "stderr",
     "output_type": "stream",
     "text": [
      "21:33:35 - cmdstanpy - INFO - Chain [1] start processing\n",
      "21:34:36 - cmdstanpy - INFO - Chain [1] done processing\n"
     ]
    },
    {
     "name": "stdout",
     "output_type": "stream",
     "text": [
      "CPU times: total: 17.1 s\n",
      "Wall time: 1min 19s\n"
     ]
    },
    {
     "data": {
      "text/plain": [
       "<prophet.forecaster.Prophet at 0x1bf67e72f90>"
      ]
     },
     "execution_count": 19,
     "metadata": {},
     "output_type": "execute_result"
    }
   ],
   "source": [
    "%%time\n",
    "\n",
    "prophet_model = Prophet()\n",
    "prophet_model.fit(df_prophet)"
   ]
  },
  {
   "cell_type": "code",
   "execution_count": 20,
   "id": "c759fe7a",
   "metadata": {},
   "outputs": [],
   "source": [
    "prophet_forecast = prophet_model.predict(test_df_pd[[\"tx_time\"]].rename(columns={\"tx_time\": \"ds\"}))"
   ]
  },
  {
   "cell_type": "code",
   "execution_count": 21,
   "id": "ed817d77",
   "metadata": {},
   "outputs": [
    {
     "data": {
      "image/png": "[encoded data removed]",
      "text/plain": [
       "<Figure size 1000x500 with 1 Axes>"
      ]
     },
     "metadata": {},
     "output_type": "display_data"
    }
   ],
   "source": [
    "y_true = test_df_pd[\"gas_price\"].to_numpy()\n",
    "y_pred_prophet = prophet_forecast[\"yhat\"].to_numpy()\n",
    "\n",
    "plot_predictions(y_true[50:1050], y_pred_prophet[50:1050], title=\"Predicted vs Actual Gas Price (Test Set)\")"
   ]
  },
  {
   "cell_type": "code",
   "execution_count": 22,
   "id": "e8e25e74",
   "metadata": {},
   "outputs": [
    {
     "data": {
      "text/plain": [
       "{'MAPE': np.float64(15716.061306250755), 'MAE': np.float64(15.056559216846807)}"
      ]
     },
     "execution_count": 22,
     "metadata": {},
     "output_type": "execute_result"
    }
   ],
   "source": [
    "prophet_metrics = calculate_metrics(y_true, y_pred_prophet)\n",
    "prophet_metrics"
   ]
  },
  {
   "cell_type": "code",
   "execution_count": 24,
   "id": "c78ad973",
   "metadata": {},
   "outputs": [
    {
     "data": {
      "text/plain": [
       "['../models/prophet/prophet_model.pkl']"
      ]
     },
     "execution_count": 24,
     "metadata": {},
     "output_type": "execute_result"
    }
   ],
   "source": [
    "joblib.dump(prophet_model, \"../models/prophet/prophet_model.pkl\")"
   ]
  },
  {
   "cell_type": "markdown",
   "id": "66cd5f5e",
   "metadata": {},
   "source": [
    "Let's train the `Prophet()` model to predict the difference of neighboring gas_price values"
   ]
  },
  {
   "cell_type": "code",
   "execution_count": 25,
   "id": "ca49b1f1",
   "metadata": {},
   "outputs": [],
   "source": [
    "train_diff_series = train_df_pd[\"gas_price\"].diff().dropna()\n",
    "df_prophet[\"y\"] = train_diff_series"
   ]
  },
  {
   "cell_type": "code",
   "execution_count": 26,
   "id": "0b9b874f",
   "metadata": {},
   "outputs": [
    {
     "name": "stderr",
     "output_type": "stream",
     "text": [
      "21:53:13 - cmdstanpy - INFO - Chain [1] start processing\n",
      "21:53:34 - cmdstanpy - INFO - Chain [1] done processing\n"
     ]
    },
    {
     "name": "stdout",
     "output_type": "stream",
     "text": [
      "CPU times: total: 16.9 s\n",
      "Wall time: 38.2 s\n"
     ]
    },
    {
     "data": {
      "text/plain": [
       "<prophet.forecaster.Prophet at 0x1bf80030e10>"
      ]
     },
     "execution_count": 26,
     "metadata": {},
     "output_type": "execute_result"
    }
   ],
   "source": [
    "%%time\n",
    "\n",
    "prophet_model = Prophet()\n",
    "prophet_model.fit(df_prophet)"
   ]
  },
  {
   "cell_type": "code",
   "execution_count": 27,
   "id": "4bb23488",
   "metadata": {},
   "outputs": [],
   "source": [
    "prophet_forecast = prophet_model.predict(test_df_pd[[\"tx_time\"]].rename(columns={\"tx_time\": \"ds\"}))"
   ]
  },
  {
   "cell_type": "code",
   "execution_count": 28,
   "id": "caff14c3",
   "metadata": {},
   "outputs": [
    {
     "data": {
      "image/png": "[encoded data removed]",
      "text/plain": [
       "<Figure size 1000x500 with 1 Axes>"
      ]
     },
     "metadata": {},
     "output_type": "display_data"
    }
   ],
   "source": [
    "y_pred_prophet = prophet_forecast[\"yhat\"].cumsum() + y_true[0]\n",
    "y_pred_prophet = y_pred_prophet.to_numpy()\n",
    "\n",
    "plot_predictions(y_true[50:1050], y_pred_prophet[50:1050], title=\"Predicted vs Actual Gas Price (Test Set)\")"
   ]
  },
  {
   "cell_type": "code",
   "execution_count": 29,
   "metadata": {},
   "outputs": [
    {
     "data": {
      "text/plain": [
       "{'MAPE': np.float64(2936832.716951434), 'MAE': np.float64(1806.6880095893146)}"
      ]
     },
     "execution_count": 29,
     "metadata": {},
     "output_type": "execute_result"
    }
   ],
   "source": [
    "diff_prophet_metrics = calculate_metrics(y_true, y_pred_prophet)\n",
    "diff_prophet_metrics"
   ]
  },
  {
   "cell_type": "code",
   "execution_count": 30,
   "id": "6ba62e38",
   "metadata": {},
   "outputs": [
    {
     "data": {
      "text/plain": [
       "['../models/prophet/diff_prophet_model.pkl']"
      ]
     },
     "execution_count": 30,
     "metadata": {},
     "output_type": "execute_result"
    }
   ],
   "source": [
    "joblib.dump(prophet_model, \"../models/prophet/diff_prophet_model.pkl\")"
   ]
  },
  {
   "cell_type": "markdown",
   "id": "6abdc92f",
   "metadata": {},
   "source": [
    "### ARIMA"
   ]
  },
  {
   "cell_type": "code",
   "execution_count": 31,
   "id": "16548101",
   "metadata": {},
   "outputs": [
    {
     "name": "stderr",
     "output_type": "stream",
     "text": [
      "[I 2025-04-24 21:53:54,596] A new study created in memory with name: no-name-b0c83ec2-af4c-43a6-8065-28f74aede192\n",
      "[I 2025-04-24 21:56:52,794] Trial 0 finished with value: 53.03301552924789 and parameters: {'order': (4, 2, 4)}. Best is trial 0 with value: 53.03301552924789.\n",
      "[I 2025-04-24 21:59:10,610] Trial 1 finished with value: 14.571020144596421 and parameters: {'order': (4, 0, 3)}. Best is trial 1 with value: 14.571020144596421.\n"
     ]
    }
   ],
   "source": [
    "p = q = range(1, 5)\n",
    "d = range(0, 3)\n",
    "pdq = list(itertools.product(p, d, q))\n",
    "\n",
    "\n",
    "def objective_arima(trial):\n",
    "    order = trial.suggest_categorical('order', pdq)\n",
    "    model = ARIMA(train_df_pd[\"gas_price\"][train_df_pd[\"tx_time\"] > train_df_pd[\"tx_time\"].max() - pd.Timedelta(hours=2)], order=order)\n",
    "    mdl = model.fit()\n",
    "    predictions = mdl.forecast(len(val_df_pd[\"gas_price\"]))\n",
    "    predictions = pd.Series(predictions.values, index=val_df_pd.index)\n",
    "    errors = val_df_pd[\"gas_price\"] - predictions\n",
    "    mae = np.mean(np.abs(errors))\n",
    "    return mae\n",
    "\n",
    "study = optuna.create_study(direction=\"minimize\")\n",
    "study.optimize(objective_arima, n_trials=10, timeout=300)"
   ]
  },
  {
   "cell_type": "code",
   "execution_count": 32,
   "id": "219f217b",
   "metadata": {},
   "outputs": [
    {
     "data": {
      "text/plain": [
       "(4, 0, 3)"
      ]
     },
     "execution_count": 32,
     "metadata": {},
     "output_type": "execute_result"
    }
   ],
   "source": [
    "best_pdq = study.best_params[\"order\"]\n",
    "best_pdq"
   ]
  },
  {
   "cell_type": "code",
   "execution_count": 33,
   "id": "bf726298",
   "metadata": {},
   "outputs": [
    {
     "name": "stdout",
     "output_type": "stream",
     "text": [
      "CPU times: total: 8min 1s\n",
      "Wall time: 8min 10s\n"
     ]
    }
   ],
   "source": [
    "%%time\n",
    "\n",
    "arima_model = ARIMA(train_df_pd[\"gas_price\"], order=best_pdq)\n",
    "arima_model = arima_model.fit()"
   ]
  },
  {
   "cell_type": "code",
   "execution_count": 34,
   "id": "253584f8",
   "metadata": {},
   "outputs": [],
   "source": [
    "arima_forecast = arima_model.forecast(steps=test_df_pd.shape[0])"
   ]
  },
  {
   "cell_type": "code",
   "execution_count": 35,
   "id": "a092a200",
   "metadata": {},
   "outputs": [
    {
     "data": {
      "image/png": "[encoded data removed]",
      "text/plain": [
       "<Figure size 1000x500 with 1 Axes>"
      ]
     },
     "metadata": {},
     "output_type": "display_data"
    }
   ],
   "source": [
    "y_pred_arima = np.array(arima_forecast)\n",
    "\n",
    "plot_predictions(y_true[50:1050], y_pred_arima[50:1050], title=\"Predicted vs Actual Gas Price (Test Set)\")"
   ]
  },
  {
   "cell_type": "code",
   "execution_count": 36,
   "id": "5d72eeb5",
   "metadata": {},
   "outputs": [
    {
     "data": {
      "text/plain": [
       "{'MAPE': np.float64(12592.456919389026), 'MAE': np.float64(13.483442721564579)}"
      ]
     },
     "execution_count": 36,
     "metadata": {},
     "output_type": "execute_result"
    }
   ],
   "source": [
    "arima_metrics = calculate_metrics(y_true, y_pred_arima)\n",
    "arima_metrics"
   ]
  },
  {
   "cell_type": "code",
   "execution_count": 37,
   "id": "c7c7b93a",
   "metadata": {},
   "outputs": [
    {
     "data": {
      "text/plain": [
       "['../models/arima/arima_model.pkl']"
      ]
     },
     "execution_count": 37,
     "metadata": {},
     "output_type": "execute_result"
    }
   ],
   "source": [
    "joblib.dump(arima_model, \"../models/arima/arima_model.pkl\")"
   ]
  },
  {
   "cell_type": "markdown",
   "id": "1bf4025d",
   "metadata": {},
   "source": [
    "Let's train the `ARIMA()` model to predict the difference of neighboring gas_price values"
   ]
  },
  {
   "cell_type": "code",
   "execution_count": 38,
   "id": "8fc79a97",
   "metadata": {},
   "outputs": [
    {
     "name": "stdout",
     "output_type": "stream",
     "text": [
      "CPU times: total: 13.3 s\n",
      "Wall time: 13.5 s\n"
     ]
    }
   ],
   "source": [
    "%%time\n",
    "\n",
    "arima_model = ARIMA(train_df_pd[\"gas_price\"], order=(1, 1, 0))\n",
    "arima_model = arima_model.fit()"
   ]
  },
  {
   "cell_type": "code",
   "execution_count": 39,
   "id": "a767745a",
   "metadata": {},
   "outputs": [],
   "source": [
    "arima_forecast = arima_model.forecast(steps=test_df_pd.shape[0])"
   ]
  },
  {
   "cell_type": "code",
   "execution_count": 40,
   "id": "fc3432f2",
   "metadata": {},
   "outputs": [
    {
     "data": {
      "image/png": "[encoded data removed]",
      "text/plain": [
       "<Figure size 1000x500 with 1 Axes>"
      ]
     },
     "metadata": {},
     "output_type": "display_data"
    }
   ],
   "source": [
    "y_pred_arima = np.array(arima_forecast)\n",
    "\n",
    "plot_predictions(y_true[50:1050], y_pred_arima[50:1050], title=\"Predicted vs Actual Gas Price (Test Set)\")"
   ]
  },
  {
   "cell_type": "code",
   "execution_count": 41,
   "id": "7f32f0e3",
   "metadata": {},
   "outputs": [
    {
     "data": {
      "text/plain": [
       "{'MAPE': np.float64(86417.84999528565), 'MAE': np.float64(51.51593281022966)}"
      ]
     },
     "execution_count": 41,
     "metadata": {},
     "output_type": "execute_result"
    }
   ],
   "source": [
    "diff_arima_metrics = calculate_metrics(y_true, y_pred_arima)\n",
    "diff_arima_metrics"
   ]
  },
  {
   "cell_type": "code",
   "execution_count": 42,
   "id": "f8bbb241",
   "metadata": {},
   "outputs": [
    {
     "data": {
      "text/plain": [
       "['../models/arima/diff_arima_model.pkl']"
      ]
     },
     "execution_count": 42,
     "metadata": {},
     "output_type": "execute_result"
    }
   ],
   "source": [
    "joblib.dump(arima_model, \"../models/arima/diff_arima_model.pkl\")"
   ]
  },
  {
   "cell_type": "markdown",
   "id": "64643bef",
   "metadata": {},
   "source": [
    "## Conclusion\n",
    "\n",
    "- Classical models fail to capture dependencies in the available data 💔\n",
    "- Classical models perform worse at outlier detection than neural network models 😭\n",
    "- Training on the difference of neighboring values of the target variable did not improve results 🥀"
   ]
  },
  {
   "cell_type": "code",
   "execution_count": 43,
   "id": "29fee8d0",
   "metadata": {},
   "outputs": [],
   "source": [
    "results = {\n",
    "    \"Prophet\": prophet_metrics,\n",
    "    \"Diff Prophet\": diff_prophet_metrics,\n",
    "    \"ARIMA\": arima_metrics,\n",
    "    \"Diff ARIMA\": diff_arima_metrics,\n",
    "}"
   ]
  },
  {
   "cell_type": "code",
   "execution_count": 44,
   "id": "86c2dade",
   "metadata": {},
   "outputs": [],
   "source": [
    "df_quality = pd.DataFrame(results).T\n",
    "df_quality.index.name = \"Model\""
   ]
  },
  {
   "cell_type": "code",
   "execution_count": 45,
   "id": "d0ac1ffc",
   "metadata": {},
   "outputs": [
    {
     "data": {
      "text/html": [
       "<style type=\"text/css\">\n",
       "#T_b0c43_row2_col0, #T_b0c43_row2_col1 {\n",
       "  background-color: lightgreen;\n",
       "}\n",
       "</style>\n",
       "<table id=\"T_b0c43\">\n",
       "  <thead>\n",
       "    <tr>\n",
       "      <th class=\"blank level0\" >&nbsp;</th>\n",
       "      <th id=\"T_b0c43_level0_col0\" class=\"col_heading level0 col0\" >MAPE</th>\n",
       "      <th id=\"T_b0c43_level0_col1\" class=\"col_heading level0 col1\" >MAE</th>\n",
       "    </tr>\n",
       "    <tr>\n",
       "      <th class=\"index_name level0\" >Model</th>\n",
       "      <th class=\"blank col0\" >&nbsp;</th>\n",
       "      <th class=\"blank col1\" >&nbsp;</th>\n",
       "    </tr>\n",
       "  </thead>\n",
       "  <tbody>\n",
       "    <tr>\n",
       "      <th id=\"T_b0c43_level0_row0\" class=\"row_heading level0 row0\" >Prophet</th>\n",
       "      <td id=\"T_b0c43_row0_col0\" class=\"data row0 col0\" >15716.061306</td>\n",
       "      <td id=\"T_b0c43_row0_col1\" class=\"data row0 col1\" >15.056559</td>\n",
       "    </tr>\n",
       "    <tr>\n",
       "      <th id=\"T_b0c43_level0_row1\" class=\"row_heading level0 row1\" >Diff Prophet</th>\n",
       "      <td id=\"T_b0c43_row1_col0\" class=\"data row1 col0\" >2936832.716951</td>\n",
       "      <td id=\"T_b0c43_row1_col1\" class=\"data row1 col1\" >1806.688010</td>\n",
       "    </tr>\n",
       "    <tr>\n",
       "      <th id=\"T_b0c43_level0_row2\" class=\"row_heading level0 row2\" >ARIMA</th>\n",
       "      <td id=\"T_b0c43_row2_col0\" class=\"data row2 col0\" >12592.456919</td>\n",
       "      <td id=\"T_b0c43_row2_col1\" class=\"data row2 col1\" >13.483443</td>\n",
       "    </tr>\n",
       "    <tr>\n",
       "      <th id=\"T_b0c43_level0_row3\" class=\"row_heading level0 row3\" >Diff ARIMA</th>\n",
       "      <td id=\"T_b0c43_row3_col0\" class=\"data row3 col0\" >86417.849995</td>\n",
       "      <td id=\"T_b0c43_row3_col1\" class=\"data row3 col1\" >51.515933</td>\n",
       "    </tr>\n",
       "  </tbody>\n",
       "</table>\n"
      ],
      "text/plain": [
       "<pandas.io.formats.style.Styler at 0x1bf1c5f0980>"
      ]
     },
     "execution_count": 45,
     "metadata": {},
     "output_type": "execute_result"
    }
   ],
   "source": [
    "styled_df = df_quality.style.highlight_min(color=\"lightgreen\", axis=0)\n",
    "styled_df"
   ]
  }
 ],
 "metadata": {
  "kernelspec": {
   "display_name": ".venv",
   "language": "python",
   "name": "python3"
  },
  "language_info": {
   "codemirror_mode": {
    "name": "ipython",
    "version": 3
   },
   "file_extension": ".py",
   "mimetype": "text/x-python",
   "name": "python",
   "nbconvert_exporter": "python",
   "pygments_lexer": "ipython3",
   "version": "3.13.3"
  }
 },
 "nbformat": 4,
 "nbformat_minor": 5
}

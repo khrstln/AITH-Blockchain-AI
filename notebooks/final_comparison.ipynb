{
 "cells": [
  {
   "cell_type": "code",
   "execution_count": 1,
   "id": "2bdcc80e",
   "metadata": {},
   "outputs": [
    {
     "name": "stderr",
     "output_type": "stream",
     "text": [
      "c:\\Users\\Mi\\Документы\\GitHub\\AITH-Blockchain-AI\\.venv\\Lib\\site-packages\\tqdm\\auto.py:21: TqdmWarning: IProgress not found. Please update jupyter and ipywidgets. See https://ipywidgets.readthedocs.io/en/stable/user_install.html\n",
      "  from .autonotebook import tqdm as notebook_tqdm\n"
     ]
    }
   ],
   "source": [
    "from datetime import timedelta\n",
    "import warnings\n",
    "\n",
    "\n",
    "import polars as pl\n",
    "import pandas as pd\n",
    "import torch\n",
    "import torch.nn as nn\n",
    "from torch.utils.data import Dataset, DataLoader\n",
    "from sklearn.preprocessing import RobustScaler\n",
    "import numpy as np\n",
    "import matplotlib.pyplot as plt\n",
    "from prophet import Prophet\n",
    "from statsmodels.tsa.arima.model import ARIMA\n",
    "import joblib\n",
    "import optuna\n",
    "from datetime import datetime\n",
    "\n",
    "device = \"cuda\" if torch.cuda.is_available() else \"cpu\"\n",
    "\n",
    "warnings.filterwarnings(\"ignore\")"
   ]
  },
  {
   "cell_type": "code",
   "execution_count": 2,
   "id": "d79707e9",
   "metadata": {},
   "outputs": [
    {
     "data": {
      "text/plain": [
       "'cpu'"
      ]
     },
     "execution_count": 2,
     "metadata": {},
     "output_type": "execute_result"
    }
   ],
   "source": [
    "device"
   ]
  },
  {
   "cell_type": "markdown",
   "id": "a2a54147",
   "metadata": {},
   "source": [
    "## Test dataset"
   ]
  },
  {
   "cell_type": "markdown",
   "id": "acfe75fd",
   "metadata": {},
   "source": [
    "Let's calculate metrics on the first 5 minutes of the test part"
   ]
  },
  {
   "cell_type": "code",
   "execution_count": 3,
   "id": "d5990cdb",
   "metadata": {},
   "outputs": [
    {
     "name": "stdout",
     "output_type": "stream",
     "text": [
      "(75570, 14)\n"
     ]
    }
   ],
   "source": [
    "test_df_for_net_1h = pl.read_parquet(\"../data/processed/test.parquet\")\n",
    "print(test_df_for_net_1h.shape)"
   ]
  },
  {
   "cell_type": "code",
   "execution_count": 4,
   "id": "25a408cc",
   "metadata": {},
   "outputs": [
    {
     "name": "stdout",
     "output_type": "stream",
     "text": [
      "(7348, 14)\n"
     ]
    }
   ],
   "source": [
    "test_df_for_net_5m = test_df_for_net_1h[:7348] # Количество сэмплов, соответствующее промежутку времени длиной 5 минут\n",
    "print(test_df_for_net_5m.shape)"
   ]
  },
  {
   "cell_type": "markdown",
   "id": "4f291fa5",
   "metadata": {},
   "source": [
    "## Models Architectures"
   ]
  },
  {
   "cell_type": "code",
   "execution_count": 5,
   "id": "a405974b",
   "metadata": {},
   "outputs": [],
   "source": [
    "class SequenceDataset(Dataset):\n",
    "    def __init__(self, df: pl.DataFrame, seq_length: int, target_col: str):\n",
    "        self.seq_length = seq_length\n",
    "        feature_columns = [col for col in df.columns if col != target_col]\n",
    "        self.features = df.select(feature_columns).to_numpy()\n",
    "        self.targets = df[target_col].to_numpy()\n",
    "\n",
    "    def __len__(self):\n",
    "        return self.features.shape[0] - self.seq_length\n",
    "\n",
    "    def __getitem__(self, idx):\n",
    "        seq_x = self.features[idx : idx + self.seq_length]\n",
    "        target = self.targets[idx + self.seq_length]\n",
    "        return torch.tensor(seq_x, dtype=torch.float32), torch.tensor([target], dtype=torch.float32)"
   ]
  },
  {
   "cell_type": "code",
   "execution_count": 6,
   "id": "5d22282f",
   "metadata": {},
   "outputs": [],
   "source": [
    "class BasicRNN(nn.Module):\n",
    "    def __init__(\n",
    "        self,\n",
    "        input_size,\n",
    "        hidden_size,\n",
    "        num_layers,\n",
    "        output_size,\n",
    "        dropout_rate=0.5,\n",
    "    ):\n",
    "        super(BasicRNN, self).__init__()\n",
    "        self.rnn = nn.RNN(\n",
    "            input_size,\n",
    "            hidden_size,\n",
    "            num_layers,\n",
    "            batch_first=True,\n",
    "            dropout=dropout_rate if num_layers > 1 else 0,\n",
    "        )\n",
    "        self.dropout = nn.Dropout(dropout_rate)\n",
    "        self.fc = nn.Linear(hidden_size, output_size)\n",
    "\n",
    "    def forward(self, x):\n",
    "        h0 = torch.zeros(self.rnn.num_layers, x.size(0), self.rnn.hidden_size).to(x.device)\n",
    "        out, _ = self.rnn(x, h0)\n",
    "        out = out[:, -1, :]\n",
    "        out = self.dropout(out)\n",
    "        out = self.fc(out)\n",
    "        return out\n",
    "\n",
    "\n",
    "class BasicLSTM(nn.Module):\n",
    "    def __init__(\n",
    "        self,\n",
    "        input_size,\n",
    "        hidden_size,\n",
    "        num_layers,\n",
    "        output_size,\n",
    "        dropout_rate=0.5,\n",
    "    ):\n",
    "        super(BasicLSTM, self).__init__()\n",
    "        self.lstm = nn.LSTM(\n",
    "            input_size,\n",
    "            hidden_size,\n",
    "            num_layers,\n",
    "            batch_first=True,\n",
    "            dropout=dropout_rate if num_layers > 1 else 0,\n",
    "        )\n",
    "        self.dropout = nn.Dropout(dropout_rate)\n",
    "        self.fc = nn.Linear(hidden_size, output_size)\n",
    "\n",
    "    def forward(self, x):\n",
    "        h0 = torch.zeros(self.lstm.num_layers, x.size(0), self.lstm.hidden_size).to(x.device)\n",
    "        c0 = torch.zeros(self.lstm.num_layers, x.size(0), self.lstm.hidden_size).to(x.device)\n",
    "        out, (hn, cn) = self.lstm(x, (h0, c0))\n",
    "        out = out[:, -1, :]\n",
    "        out = self.dropout(out)\n",
    "        out = self.fc(out)\n",
    "        return out\n",
    "\n",
    "\n",
    "class BasicBiLSTM(nn.Module):\n",
    "    def __init__(self, input_size, hidden_size, num_layers, output_size, dropout_rate=0.5):\n",
    "        super(BasicBiLSTM, self).__init__()\n",
    "        self.lstm = nn.LSTM(\n",
    "            input_size,\n",
    "            hidden_size,\n",
    "            num_layers,\n",
    "            batch_first=True,\n",
    "            dropout=dropout_rate if num_layers > 1 else 0,\n",
    "            bidirectional=True,\n",
    "        )\n",
    "        self.dropout = nn.Dropout(dropout_rate)\n",
    "        self.fc = nn.Linear(hidden_size * 2, output_size)\n",
    "\n",
    "    def forward(self, x):\n",
    "        h0 = torch.zeros(self.lstm.num_layers * 2, x.size(0), self.lstm.hidden_size).to(x.device)\n",
    "        c0 = torch.zeros(self.lstm.num_layers * 2, x.size(0), self.lstm.hidden_size).to(x.device)\n",
    "        out, _ = self.lstm(x, (h0, c0))\n",
    "        out = out[:, -1, :]\n",
    "        out = self.dropout(out)\n",
    "        out = self.fc(out)\n",
    "        return out\n",
    "\n",
    "\n",
    "class CNNLSTM(nn.Module):\n",
    "    def __init__(\n",
    "        self,\n",
    "        input_size,\n",
    "        conv_filters=9,\n",
    "        kernel_size=7,\n",
    "        lstm_hidden_size=100,\n",
    "        lstm_num_layers=2,\n",
    "        output_size=1,\n",
    "        dropout_rate=0.5,\n",
    "        padding=True,\n",
    "    ):\n",
    "        super(CNNLSTM, self).__init__()\n",
    "        self.input_size = input_size\n",
    "\n",
    "        pad = kernel_size // 2 if padding else 0\n",
    "        self.conv1d = nn.Conv1d(\n",
    "            in_channels=input_size,\n",
    "            out_channels=input_size * conv_filters,\n",
    "            kernel_size=kernel_size,\n",
    "            groups=input_size,\n",
    "            padding=pad,\n",
    "        )\n",
    "\n",
    "        self.lstm = nn.LSTM(\n",
    "            input_size=input_size * conv_filters,\n",
    "            hidden_size=lstm_hidden_size,\n",
    "            num_layers=lstm_num_layers,\n",
    "            batch_first=True,\n",
    "            dropout=dropout_rate,\n",
    "        )\n",
    "        self.dropout = nn.Dropout(dropout_rate)\n",
    "        self.fc = nn.Linear(lstm_hidden_size, output_size)\n",
    "\n",
    "    def forward(self, x):\n",
    "        x = x.transpose(1, 2)\n",
    "        conv_out = torch.tanh(self.conv1d(x))\n",
    "        conv_out = conv_out.transpose(1, 2)\n",
    "        batch_size = conv_out.size(0)\n",
    "        h0 = torch.zeros(self.lstm.num_layers, batch_size, self.lstm.hidden_size, device=x.device)\n",
    "        c0 = torch.zeros(self.lstm.num_layers, batch_size, self.lstm.hidden_size, device=x.device)\n",
    "        lstm_out, _ = self.lstm(conv_out, (h0, c0))\n",
    "        out = lstm_out[:, -1, :]\n",
    "        out = self.dropout(out)\n",
    "        out = self.fc(out)\n",
    "        return out\n",
    "\n",
    "\n",
    "class AttentionLayer(nn.Module):\n",
    "    def __init__(self, enc_size, dec_size, attn_hidden_size):\n",
    "        super().__init__()\n",
    "        self.linear_enc = nn.Linear(enc_size, attn_hidden_size)\n",
    "        self.linear_dec = nn.Linear(dec_size, attn_hidden_size)\n",
    "        self.linear_out = nn.Linear(attn_hidden_size, 1)\n",
    "        self.softmax = nn.Softmax(dim=-1)\n",
    "\n",
    "    def forward(self, enc, dec, inp_mask):\n",
    "        batch_size, seq_length, _ = enc.shape\n",
    "        query_proj = self.linear_dec(dec).unsqueeze(1)  # (batch, 1, attn_hidden_size)\n",
    "        enc_proj = self.linear_enc(enc)  # (batch, seq_length, attn_hidden_size)\n",
    "        energies = torch.tanh(enc_proj + query_proj)  # (batch, seq_length, attn_hidden_size)\n",
    "        scores = self.linear_out(energies).squeeze(-1)  # (batch, seq_length)\n",
    "\n",
    "        scores = scores.masked_fill(~inp_mask, -1e9)\n",
    "\n",
    "        attn_weights = self.softmax(scores)  # (batch, seq_length)\n",
    "        context = torch.sum(attn_weights.unsqueeze(-1) * enc, dim=1)  # (batch, enc_size)\n",
    "        return context, attn_weights\n",
    "\n",
    "\n",
    "class AttentionLSTM(nn.Module):\n",
    "    def __init__(\n",
    "        self,\n",
    "        input_size,\n",
    "        hidden_size,\n",
    "        num_layers,\n",
    "        attn_hidden_size,\n",
    "        output_size=1,\n",
    "        dropout_rate=0.5,\n",
    "    ):\n",
    "        super(AttentionLSTM, self).__init__()\n",
    "        self.encoder = nn.LSTM(\n",
    "            input_size,\n",
    "            hidden_size,\n",
    "            num_layers,\n",
    "            batch_first=True,\n",
    "            dropout=dropout_rate if num_layers > 1 else 0,\n",
    "        )\n",
    "        self.attention = AttentionLayer(hidden_size, hidden_size, attn_hidden_size)\n",
    "        self.dropout = nn.Dropout(dropout_rate)\n",
    "        self.fc = nn.Linear(hidden_size, output_size)\n",
    "\n",
    "    def forward(self, x, mask=None):\n",
    "        encoder_outputs, (h_n, c_n) = self.encoder(x)\n",
    "        query = h_n[-1]  # (batch, hidden_size)\n",
    "\n",
    "        if mask is None:\n",
    "            mask = torch.ones(encoder_outputs.size(0), encoder_outputs.size(1), dtype=torch.bool, device=x.device)\n",
    "\n",
    "        context, attn_weights = self.attention(encoder_outputs, query, mask)\n",
    "        out = self.dropout(context)\n",
    "        out = self.fc(out)\n",
    "        return out"
   ]
  },
  {
   "cell_type": "markdown",
   "id": "df0d4d75",
   "metadata": {},
   "source": [
    "## Methods for evaluation"
   ]
  },
  {
   "cell_type": "code",
   "execution_count": 7,
   "id": "5c5dc8d0",
   "metadata": {},
   "outputs": [],
   "source": [
    "def evaluate_model(model, dataloader, device):\n",
    "    model.eval()\n",
    "    predictions = []\n",
    "    targets = []\n",
    "    with torch.no_grad():\n",
    "        for seq, target in dataloader:\n",
    "            seq = seq.to(device)\n",
    "            target = target.to(device)\n",
    "            output = model(seq)\n",
    "            predictions.append(output.cpu().numpy())\n",
    "            targets.append(target.cpu().numpy())\n",
    "\n",
    "    predictions = np.concatenate(predictions, axis=0)\n",
    "    targets = np.concatenate(targets, axis=0)\n",
    "    return targets, predictions\n",
    "\n",
    "\n",
    "def plot_predictions(y_true, y_pred, title=\"Predicted vs Actual Gas Price\"):\n",
    "    plt.figure(figsize=(10, 5))\n",
    "    plt.plot(y_true, label=\"Actual\")\n",
    "    plt.plot(y_pred, label=\"Predicted\")\n",
    "    plt.title(title)\n",
    "    plt.xlabel(\"Time step\")\n",
    "    plt.ylabel(\"Gas Price\")\n",
    "    plt.legend()\n",
    "    plt.show()\n",
    "\n",
    "\n",
    "def calculate_metrics(y_true, y_pred):\n",
    "    epsilon = 1e-8\n",
    "    mape = np.mean(np.abs((y_true - y_pred) / (y_true + epsilon))) * 100\n",
    "    mae = np.mean(np.abs(y_true - y_pred))\n",
    "    return {\"MAPE\": mape, \"MAE\": mae}\n",
    "\n",
    "\n",
    "def inverse_scale(scaled_data, scaler):\n",
    "    return scaler.inverse_transform(scaled_data)"
   ]
  },
  {
   "cell_type": "code",
   "execution_count": 8,
   "id": "0218c5c8",
   "metadata": {},
   "outputs": [],
   "source": [
    "scaler = joblib.load(\"../models/tx_scaler.pkl\")\n",
    "numeric_cols = ['cost', 'gas', 'gas_fee_cap', 'gas_price']\n",
    "\n",
    "test_df_numeric = test_df_for_net_1h.select(numeric_cols)\n",
    "test_df_numeric_pd = test_df_numeric.to_pandas().astype(float)\n",
    "\n",
    "inverted_data = inverse_scale(test_df_numeric_pd, scaler)\n",
    "\n",
    "y_true_unscaled = inverted_data[:, 3].copy()"
   ]
  },
  {
   "cell_type": "markdown",
   "id": "e3fc1144",
   "metadata": {},
   "source": [
    "## Common parameters"
   ]
  },
  {
   "cell_type": "code",
   "execution_count": 9,
   "id": "23727215",
   "metadata": {},
   "outputs": [],
   "source": [
    "seq_length = 50\n",
    "target_column = \"gas_price\"\n",
    "batch_size = 64\n",
    "\n",
    "test_dataset_5m = SequenceDataset(test_df_for_net_5m, seq_length, target_column)\n",
    "test_dataset_1h = SequenceDataset(test_df_for_net_1h, seq_length, target_column)"
   ]
  },
  {
   "cell_type": "code",
   "execution_count": 10,
   "id": "940bec4e",
   "metadata": {},
   "outputs": [],
   "source": [
    "test_loader_5m = DataLoader(test_dataset_5m, batch_size=batch_size, shuffle=False)\n",
    "test_loader_1h = DataLoader(test_dataset_1h, batch_size=batch_size, shuffle=False)"
   ]
  },
  {
   "cell_type": "code",
   "execution_count": 11,
   "id": "7894924c",
   "metadata": {},
   "outputs": [],
   "source": [
    "input_size = test_df_for_net_5m.width - 1\n",
    "output_size = 1"
   ]
  },
  {
   "cell_type": "markdown",
   "id": "8298a2fe",
   "metadata": {},
   "source": [
    "## Models instances "
   ]
  },
  {
   "cell_type": "code",
   "execution_count": 12,
   "id": "687c9c8d",
   "metadata": {},
   "outputs": [],
   "source": [
    "def load_model(model_type, model_path, device, **model_kwargs):\n",
    "    model = model_type(**model_kwargs)\n",
    "    model.load_state_dict(torch.load(model_path, map_location=device))\n",
    "    model.to(device)\n",
    "    model.eval()\n",
    "    return model"
   ]
  },
  {
   "cell_type": "markdown",
   "id": "937a59d1",
   "metadata": {},
   "source": [
    "### RNN"
   ]
  },
  {
   "cell_type": "code",
   "execution_count": 13,
   "id": "a30b875d",
   "metadata": {},
   "outputs": [],
   "source": [
    "hidden_size_rnn = input_size * 4\n",
    "num_layers_rnn = 2"
   ]
  },
  {
   "cell_type": "code",
   "execution_count": null,
   "id": "902c647c",
   "metadata": {},
   "outputs": [],
   "source": [
    "rnn_kwargs = {\n",
    "    \"input_size\": input_size,\n",
    "    \"hidden_size\": hidden_size_rnn,\n",
    "    \"num_layers\": num_layers_rnn,\n",
    "    \"output_size\": output_size,\n",
    "}\n",
    "\n",
    "model_rnn = load_model(BasicRNN, \"../models/rnn/best_model.pt\", device, **rnn_kwargs)"
   ]
  },
  {
   "cell_type": "code",
   "execution_count": null,
   "id": "d3f7f5c2",
   "metadata": {},
   "outputs": [],
   "source": [
    "y_true_rnn_5m, y_pred_rnn_5m = evaluate_model(model_rnn, test_loader_5m, device)\n",
    "y_true_rnn_1h, y_pred_rnn_1h = evaluate_model(model_rnn, test_loader_1h, device)"
   ]
  },
  {
   "cell_type": "code",
   "execution_count": null,
   "id": "d4cd67d3",
   "metadata": {},
   "outputs": [
    {
     "name": "stdout",
     "output_type": "stream",
     "text": [
      "{'MAPE': np.float32(93.52057), 'MAE': np.float32(2.1094285e-08)}\n"
     ]
    }
   ],
   "source": [
    "y_pred_rnn_matrix_1h = inverted_data[50:, :].copy()\n",
    "y_pred_rnn_matrix_1h[:, 3] = y_pred_rnn_1h.T[0].copy()\n",
    "\n",
    "y_pred_rnn_unscaled_1h = inverse_scale(y_pred_rnn_matrix_1h, scaler)[:, 3].copy()\n",
    "\n",
    "metrics_rnn_unscaled_1h = calculate_metrics(y_true_unscaled[50:], y_pred_rnn_unscaled_1h)\n",
    "print(metrics_rnn_unscaled_1h)"
   ]
  },
  {
   "cell_type": "code",
   "execution_count": null,
   "id": "f214ef60",
   "metadata": {},
   "outputs": [
    {
     "name": "stdout",
     "output_type": "stream",
     "text": [
      "{'MAPE': np.float32(95.23118), 'MAE': np.float32(2.5627902e-08)}\n"
     ]
    }
   ],
   "source": [
    "y_pred_rnn_matrix_5m = inverted_data[50:7348, :].copy()\n",
    "y_pred_rnn_matrix_5m[:, 3] = y_pred_rnn_5m.T[0].copy()\n",
    "\n",
    "y_pred_rnn_unscaled_5m = inverse_scale(y_pred_rnn_matrix_5m, scaler)[:, 3].copy()\n",
    "\n",
    "metrics_rnn_unscaled_5m = calculate_metrics(y_true_unscaled[50:7348], y_pred_rnn_unscaled_5m)\n",
    "print(metrics_rnn_unscaled_5m)"
   ]
  },
  {
   "cell_type": "markdown",
   "id": "805b8b50",
   "metadata": {},
   "source": [
    "### LSTM"
   ]
  },
  {
   "cell_type": "code",
   "execution_count": 15,
   "id": "754b8046",
   "metadata": {},
   "outputs": [],
   "source": [
    "hidden_size_lstm = input_size * 4\n",
    "num_layers_lstm = 2"
   ]
  },
  {
   "cell_type": "code",
   "execution_count": 16,
   "id": "5db79977",
   "metadata": {},
   "outputs": [],
   "source": [
    "lstm_kwargs = {\n",
    "    \"input_size\": input_size,\n",
    "    \"hidden_size\": hidden_size_lstm,\n",
    "    \"num_layers\": num_layers_lstm,\n",
    "    \"output_size\": output_size,\n",
    "}\n",
    "\n",
    "model_lstm = load_model(BasicLSTM, \"../models/lstm/best_model.pt\", device, **lstm_kwargs)"
   ]
  },
  {
   "cell_type": "code",
   "execution_count": 17,
   "id": "b772b6c3",
   "metadata": {},
   "outputs": [],
   "source": [
    "y_true_lstm_5m, y_pred_lstm_5m = evaluate_model(model_lstm, test_loader_5m, device)\n",
    "y_true_lstm_1h, y_pred_lstm_1h = evaluate_model(model_lstm, test_loader_1h, device)"
   ]
  },
  {
   "cell_type": "code",
   "execution_count": 18,
   "id": "eb513216",
   "metadata": {},
   "outputs": [
    {
     "name": "stdout",
     "output_type": "stream",
     "text": [
      "{'MAPE': np.float64(91.15660468230567), 'MAE': np.float64(2.087373620507348e-08)}\n"
     ]
    }
   ],
   "source": [
    "y_pred_lstm_matrix_1h = inverted_data[50:, :].copy()\n",
    "y_pred_lstm_matrix_1h[:, 3] = y_pred_lstm_1h.T[0].copy()\n",
    "\n",
    "y_pred_lstm_unscaled_1h = inverse_scale(y_pred_lstm_matrix_1h, scaler)[:, 3]\n",
    "\n",
    "metrics_lstm_unscaled_1h = calculate_metrics(y_true_unscaled[50:], y_pred_lstm_unscaled_1h)\n",
    "print(metrics_lstm_unscaled_1h)"
   ]
  },
  {
   "cell_type": "code",
   "execution_count": 19,
   "id": "3c719876",
   "metadata": {},
   "outputs": [
    {
     "name": "stdout",
     "output_type": "stream",
     "text": [
      "{'MAPE': np.float64(93.12762814623254), 'MAE': np.float64(2.1351191925552063e-08)}\n"
     ]
    }
   ],
   "source": [
    "y_pred_lstm_matrix_5m = inverted_data[50:7348, :].copy()\n",
    "y_pred_lstm_matrix_5m[:, 3] = y_pred_lstm_5m.T[0].copy()\n",
    "\n",
    "y_pred_lstm_unscaled_5m = inverse_scale(y_pred_lstm_matrix_5m, scaler)[:, 3]\n",
    "\n",
    "metrics_lstm_unscaled_5m = calculate_metrics(y_true_unscaled[50:7348], y_pred_lstm_unscaled_5m)\n",
    "print(metrics_lstm_unscaled_5m)"
   ]
  },
  {
   "cell_type": "markdown",
   "id": "093e58ec",
   "metadata": {},
   "source": [
    "### BiLSTM"
   ]
  },
  {
   "cell_type": "code",
   "execution_count": 20,
   "id": "057d13a9",
   "metadata": {},
   "outputs": [],
   "source": [
    "hidden_size_bi_lstm = input_size * 4\n",
    "num_layers_bi_lstm = 2"
   ]
  },
  {
   "cell_type": "code",
   "execution_count": 21,
   "id": "80eb4032",
   "metadata": {},
   "outputs": [],
   "source": [
    "bi_lstm_kwargs = {\n",
    "    \"input_size\": input_size,\n",
    "    \"hidden_size\": hidden_size_bi_lstm,\n",
    "    \"num_layers\": num_layers_bi_lstm,\n",
    "    \"output_size\": output_size,\n",
    "}\n",
    "\n",
    "model_bi_lstm = load_model(BasicBiLSTM, \"../models/bi_lstm/best_model.pt\", device, **bi_lstm_kwargs)"
   ]
  },
  {
   "cell_type": "code",
   "execution_count": 22,
   "id": "3f7e071f",
   "metadata": {},
   "outputs": [],
   "source": [
    "y_true_bi_lstm_5m, y_pred_bi_lstm_5m = evaluate_model(model_bi_lstm, test_loader_5m, device)\n",
    "y_true_bi_lstm_1h, y_pred_bi_lstm_1h = evaluate_model(model_bi_lstm, test_loader_1h, device)"
   ]
  },
  {
   "cell_type": "code",
   "execution_count": 23,
   "id": "19a625ce",
   "metadata": {},
   "outputs": [
    {
     "name": "stdout",
     "output_type": "stream",
     "text": [
      "{'MAPE': np.float64(82.89724787302563), 'MAE': np.float64(1.9977121431888418e-08)}\n"
     ]
    }
   ],
   "source": [
    "y_pred_bi_lstm_matrix_1h = inverted_data[50:, :].copy()\n",
    "y_pred_bi_lstm_matrix_1h[:, 3] = y_pred_bi_lstm_1h.T[0].copy()\n",
    "\n",
    "y_pred_bi_lstm_unscaled_1h = inverse_scale(y_pred_bi_lstm_matrix_1h, scaler)[:, 3]\n",
    "\n",
    "metrics_bi_lstm_unscaled_1h = calculate_metrics(y_true_unscaled[50:], y_pred_bi_lstm_unscaled_1h)\n",
    "print(metrics_bi_lstm_unscaled_1h)"
   ]
  },
  {
   "cell_type": "code",
   "execution_count": 24,
   "id": "2558e3b1",
   "metadata": {},
   "outputs": [
    {
     "name": "stdout",
     "output_type": "stream",
     "text": [
      "{'MAPE': np.float64(83.78664627321803), 'MAE': np.float64(2.0387802073476727e-08)}\n"
     ]
    }
   ],
   "source": [
    "y_pred_bi_lstm_matrix_5m = inverted_data[50:7348, :].copy()\n",
    "y_pred_bi_lstm_matrix_5m[:, 3] = y_pred_bi_lstm_5m.T[0].copy()\n",
    "\n",
    "y_pred_bi_lstm_unscaled_5m = inverse_scale(y_pred_bi_lstm_matrix_5m, scaler)[:, 3]\n",
    "\n",
    "metrics_bi_lstm_unscaled_5m = calculate_metrics(y_true_unscaled[50:7348], y_pred_bi_lstm_unscaled_5m)\n",
    "print(metrics_bi_lstm_unscaled_5m)"
   ]
  },
  {
   "cell_type": "markdown",
   "id": "6a9565e9",
   "metadata": {},
   "source": [
    "### CNN LSTM"
   ]
  },
  {
   "cell_type": "code",
   "execution_count": 25,
   "id": "9951f6b1",
   "metadata": {},
   "outputs": [],
   "source": [
    "lstm_cnn_conv_filters = 9\n",
    "lstm_cnn_kernel_size = 7\n",
    "lstm_cnn_hidden_size = input_size * 4\n",
    "lstm_cnn_num_layers = 2"
   ]
  },
  {
   "cell_type": "code",
   "execution_count": 26,
   "id": "dfc3e22e",
   "metadata": {},
   "outputs": [],
   "source": [
    "cnn_lstm_kwargs = {\n",
    "    \"input_size\": input_size,\n",
    "    \"conv_filters\": lstm_cnn_conv_filters,\n",
    "    \"kernel_size\": lstm_cnn_kernel_size,\n",
    "    \"lstm_hidden_size\": lstm_cnn_hidden_size,\n",
    "    \"lstm_num_layers\": lstm_cnn_num_layers,\n",
    "    \"output_size\": output_size,\n",
    "}\n",
    "\n",
    "model_cnn_lstm = load_model(CNNLSTM, \"../models/cnn_lstm/best_model.pt\", device, **cnn_lstm_kwargs)"
   ]
  },
  {
   "cell_type": "code",
   "execution_count": 27,
   "id": "9a61ef56",
   "metadata": {},
   "outputs": [],
   "source": [
    "y_true_cnn_lstm_5m, y_pred_cnn_lstm_5m = evaluate_model(model_cnn_lstm, test_loader_5m, device)\n",
    "y_true_cnn_lstm_1h, y_pred_cnn_lstm_1h = evaluate_model(model_cnn_lstm, test_loader_1h, device)"
   ]
  },
  {
   "cell_type": "code",
   "execution_count": 28,
   "id": "cb882531",
   "metadata": {},
   "outputs": [
    {
     "name": "stdout",
     "output_type": "stream",
     "text": [
      "{'MAPE': np.float64(84.60640292915505), 'MAE': np.float64(2.0167606517621747e-08)}\n"
     ]
    }
   ],
   "source": [
    "y_pred_cnn_lstm_matrix_1h = inverted_data[50:, :].copy()\n",
    "y_pred_cnn_lstm_matrix_1h[:, 3] = y_pred_cnn_lstm_1h.T[0].copy()\n",
    "\n",
    "y_pred_cnn_lstm_unscaled_1h = inverse_scale(y_pred_cnn_lstm_matrix_1h, scaler)[:, 3]\n",
    "\n",
    "metrics_cnn_lstm_unscaled_1h = calculate_metrics(y_true_unscaled[50:], y_pred_cnn_lstm_unscaled_1h)\n",
    "print(metrics_cnn_lstm_unscaled_1h)"
   ]
  },
  {
   "cell_type": "code",
   "execution_count": 29,
   "id": "28175acb",
   "metadata": {},
   "outputs": [
    {
     "name": "stdout",
     "output_type": "stream",
     "text": [
      "{'MAPE': np.float64(85.80621719315685), 'MAE': np.float64(2.0720682075807393e-08)}\n"
     ]
    }
   ],
   "source": [
    "y_pred_cnn_lstm_matrix_5m = inverted_data[50:7348, :].copy()\n",
    "y_pred_cnn_lstm_matrix_5m[:, 3] = y_pred_cnn_lstm_5m.T[0].copy()\n",
    "\n",
    "y_pred_cnn_lstm_unscaled_5m = inverse_scale(y_pred_cnn_lstm_matrix_5m, scaler)[:, 3]\n",
    "\n",
    "metrics_cnn_lstm_unscaled_5m = calculate_metrics(y_true_unscaled[50:7348], y_pred_cnn_lstm_unscaled_5m)\n",
    "print(metrics_cnn_lstm_unscaled_5m)"
   ]
  },
  {
   "cell_type": "markdown",
   "id": "fc825a20",
   "metadata": {},
   "source": [
    "### Attention LSTM"
   ]
  },
  {
   "cell_type": "code",
   "execution_count": 30,
   "id": "2a1768fd",
   "metadata": {},
   "outputs": [],
   "source": [
    "hidden_size_attention_lstm = input_size * 4\n",
    "num_layers_attention_lstm = 2"
   ]
  },
  {
   "cell_type": "code",
   "execution_count": 31,
   "id": "f88c3ef1",
   "metadata": {},
   "outputs": [],
   "source": [
    "attention_lstm_kwargs = {\n",
    "    \"input_size\": input_size,\n",
    "    \"hidden_size\": hidden_size_attention_lstm,\n",
    "    \"num_layers\": num_layers_attention_lstm,\n",
    "    \"attn_hidden_size\": output_size,\n",
    "    \"output_size\": output_size,\n",
    "}\n",
    "\n",
    "model_attention_lstm = load_model(AttentionLSTM, \"../models/attention_lstm/best_model.pt\", device, **attention_lstm_kwargs)"
   ]
  },
  {
   "cell_type": "code",
   "execution_count": 32,
   "id": "ddada857",
   "metadata": {},
   "outputs": [],
   "source": [
    "y_true_attention_lstm_5m, y_pred_attention_lstm_5m = evaluate_model(model_attention_lstm, test_loader_5m, device)\n",
    "y_true_attention_lstm_1h, y_pred_attention_lstm_1h = evaluate_model(model_attention_lstm, test_loader_1h, device)"
   ]
  },
  {
   "cell_type": "code",
   "execution_count": 33,
   "id": "9153be5e",
   "metadata": {},
   "outputs": [
    {
     "name": "stdout",
     "output_type": "stream",
     "text": [
      "{'MAPE': np.float64(83.26548750524651), 'MAE': np.float64(2.0058201909877575e-08)}\n"
     ]
    }
   ],
   "source": [
    "y_pred_attention_lstm_matrix_1h = inverted_data[50:, :].copy()\n",
    "y_pred_attention_lstm_matrix_1h[:, 3] = y_pred_attention_lstm_1h.T[0].copy()\n",
    "\n",
    "y_pred_attention_lstm_unscaled_1h = inverse_scale(y_pred_attention_lstm_matrix_1h, scaler)[:, 3]\n",
    "\n",
    "metrics_attention_lstm_unscaled_1h = calculate_metrics(y_true_unscaled[50:], y_pred_attention_lstm_unscaled_1h)\n",
    "print(metrics_attention_lstm_unscaled_1h)"
   ]
  },
  {
   "cell_type": "code",
   "execution_count": 34,
   "id": "33c3d503",
   "metadata": {},
   "outputs": [
    {
     "name": "stdout",
     "output_type": "stream",
     "text": [
      "{'MAPE': np.float64(83.6178218074625), 'MAE': np.float64(2.0446592508697535e-08)}\n"
     ]
    }
   ],
   "source": [
    "y_pred_attention_lstm_matrix_5m = inverted_data[50:7348, :].copy()\n",
    "y_pred_attention_lstm_matrix_5m[:, 3] = y_pred_attention_lstm_5m.T[0].copy()\n",
    "\n",
    "y_pred_attention_lstm_unscaled_5m = inverse_scale(y_pred_attention_lstm_matrix_5m, scaler)[:, 3]\n",
    "\n",
    "metrics_attention_lstm_unscaled_5m = calculate_metrics(y_true_unscaled[50:7348], y_pred_attention_lstm_unscaled_5m)\n",
    "print(metrics_attention_lstm_unscaled_5m)"
   ]
  },
  {
   "cell_type": "markdown",
   "id": "1e71a6a6",
   "metadata": {},
   "source": [
    "Let's prepare test data for `Prophet` and `ARIMA`"
   ]
  },
  {
   "cell_type": "code",
   "execution_count": 35,
   "id": "b389a32a",
   "metadata": {},
   "outputs": [],
   "source": [
    "df_full_ticks = pl.read_parquet(\"../data/processed/tx_blocks_eth_clean.parquet\")"
   ]
  },
  {
   "cell_type": "code",
   "execution_count": 36,
   "id": "5af2612d",
   "metadata": {},
   "outputs": [
    {
     "data": {
      "text/plain": [
       "(datetime.datetime(2025, 4, 13, 12, 43, 23),\n",
       " datetime.datetime(2025, 4, 13, 11, 43, 23))"
      ]
     },
     "execution_count": 36,
     "metadata": {},
     "output_type": "execute_result"
    }
   ],
   "source": [
    "max_time = df_full_ticks[\"tx_time\"].max()\n",
    "test_threshold = max_time - timedelta(hours=1)\n",
    "val_threshold = test_threshold - timedelta(hours=1)\n",
    "\n",
    "test_threshold, val_threshold"
   ]
  },
  {
   "cell_type": "code",
   "execution_count": 37,
   "id": "c9c710f2",
   "metadata": {},
   "outputs": [],
   "source": [
    "df_blocks = df_full_ticks.group_by(\"block_hash\").agg(pl.col(\"tx_time\").min().alias(\"block_time\"))"
   ]
  },
  {
   "cell_type": "code",
   "execution_count": 38,
   "id": "5f5d3d73",
   "metadata": {},
   "outputs": [],
   "source": [
    "df = df_full_ticks.join(df_blocks, on=\"block_hash\", how=\"left\")"
   ]
  },
  {
   "cell_type": "code",
   "execution_count": 39,
   "id": "75480fc8",
   "metadata": {},
   "outputs": [
    {
     "data": {
      "text/plain": [
       "(75570, 20)"
      ]
     },
     "execution_count": 39,
     "metadata": {},
     "output_type": "execute_result"
    }
   ],
   "source": [
    "test_df_1h = df.filter(pl.col(\"block_time\") >= test_threshold)\n",
    "test_df_1h.shape"
   ]
  },
  {
   "cell_type": "code",
   "execution_count": 40,
   "id": "63af7c6c",
   "metadata": {},
   "outputs": [],
   "source": [
    "min_test_time = test_df_1h[\"block_time\"].min()\n",
    "threshold = min_test_time + timedelta(minutes=5)"
   ]
  },
  {
   "cell_type": "code",
   "execution_count": 41,
   "id": "11498b12",
   "metadata": {},
   "outputs": [
    {
     "name": "stdout",
     "output_type": "stream",
     "text": [
      "(7348, 20)\n"
     ]
    }
   ],
   "source": [
    "test_df_5m = test_df_1h.filter(pl.col(\"block_time\") < threshold)\n",
    "print(test_df_5m.shape)"
   ]
  },
  {
   "cell_type": "code",
   "execution_count": 42,
   "id": "7407dc39",
   "metadata": {},
   "outputs": [],
   "source": [
    "def add_pseudo_time(df: pd.DataFrame) -> pd.DataFrame:\n",
    "    df_copy = df.copy(deep=True)\n",
    "\n",
    "    df_copy[\"block_time\"] = pd.to_datetime(df_copy[\"block_time\"], unit=\"s\")\n",
    "    df_copy[\"block_timestamp\"] = df_copy[\"block_time\"].astype(\"int\") // 10**6\n",
    "\n",
    "    df_copy[\"n_in_block\"] = df_copy.groupby(\"block_hash\")[\"block_hash\"].transform(\"count\")\n",
    "    df_copy[\"tx_index_in_block\"] = df_copy.groupby(\"block_hash\").cumcount()\n",
    "\n",
    "    df_copy[\"tx_timestamp\"] = df_copy[\"block_timestamp\"] + df_copy[\"tx_index_in_block\"] / df_copy[\"n_in_block\"]\n",
    "\n",
    "    df_copy[\"tx_time\"] = pd.to_datetime(df_copy[\"tx_timestamp\"], unit=\"s\")\n",
    "    \n",
    "    df_copy = df_copy.drop(columns=[\n",
    "        \"block_timestamp\", \"tx_index_in_block\", \"n_in_block\", \"tx_timestamp\"\n",
    "    ])\n",
    "\n",
    "    return df_copy"
   ]
  },
  {
   "cell_type": "code",
   "execution_count": 43,
   "id": "60b171f4",
   "metadata": {},
   "outputs": [
    {
     "data": {
      "text/html": [
       "<div>\n",
       "<style scoped>\n",
       "    .dataframe tbody tr th:only-of-type {\n",
       "        vertical-align: middle;\n",
       "    }\n",
       "\n",
       "    .dataframe tbody tr th {\n",
       "        vertical-align: top;\n",
       "    }\n",
       "\n",
       "    .dataframe thead th {\n",
       "        text-align: right;\n",
       "    }\n",
       "</style>\n",
       "<table border=\"1\" class=\"dataframe\">\n",
       "  <thead>\n",
       "    <tr style=\"text-align: right;\">\n",
       "      <th></th>\n",
       "      <th>gas_price</th>\n",
       "      <th>block_time</th>\n",
       "      <th>block_hash</th>\n",
       "      <th>tx_time</th>\n",
       "    </tr>\n",
       "  </thead>\n",
       "  <tbody>\n",
       "    <tr>\n",
       "      <th>0</th>\n",
       "      <td>-0.159582</td>\n",
       "      <td>2025-04-13 13:22:59</td>\n",
       "      <td>0x8dde0f4ac2de2c39f15094639fb4f18bc61e57fefba7...</td>\n",
       "      <td>2025-04-13 13:22:59.000000000</td>\n",
       "    </tr>\n",
       "    <tr>\n",
       "      <th>1</th>\n",
       "      <td>0.419496</td>\n",
       "      <td>2025-04-13 13:22:59</td>\n",
       "      <td>0x8dde0f4ac2de2c39f15094639fb4f18bc61e57fefba7...</td>\n",
       "      <td>2025-04-13 13:22:59.002146006</td>\n",
       "    </tr>\n",
       "    <tr>\n",
       "      <th>2</th>\n",
       "      <td>256.684807</td>\n",
       "      <td>2025-04-13 13:22:59</td>\n",
       "      <td>0x8dde0f4ac2de2c39f15094639fb4f18bc61e57fefba7...</td>\n",
       "      <td>2025-04-13 13:22:59.004291773</td>\n",
       "    </tr>\n",
       "    <tr>\n",
       "      <th>3</th>\n",
       "      <td>256.684807</td>\n",
       "      <td>2025-04-13 13:22:59</td>\n",
       "      <td>0x8dde0f4ac2de2c39f15094639fb4f18bc61e57fefba7...</td>\n",
       "      <td>2025-04-13 13:22:59.006437778</td>\n",
       "    </tr>\n",
       "    <tr>\n",
       "      <th>4</th>\n",
       "      <td>2.197437</td>\n",
       "      <td>2025-04-13 13:22:59</td>\n",
       "      <td>0x8dde0f4ac2de2c39f15094639fb4f18bc61e57fefba7...</td>\n",
       "      <td>2025-04-13 13:22:59.008583784</td>\n",
       "    </tr>\n",
       "  </tbody>\n",
       "</table>\n",
       "</div>"
      ],
      "text/plain": [
       "    gas_price          block_time  \\\n",
       "0   -0.159582 2025-04-13 13:22:59   \n",
       "1    0.419496 2025-04-13 13:22:59   \n",
       "2  256.684807 2025-04-13 13:22:59   \n",
       "3  256.684807 2025-04-13 13:22:59   \n",
       "4    2.197437 2025-04-13 13:22:59   \n",
       "\n",
       "                                          block_hash  \\\n",
       "0  0x8dde0f4ac2de2c39f15094639fb4f18bc61e57fefba7...   \n",
       "1  0x8dde0f4ac2de2c39f15094639fb4f18bc61e57fefba7...   \n",
       "2  0x8dde0f4ac2de2c39f15094639fb4f18bc61e57fefba7...   \n",
       "3  0x8dde0f4ac2de2c39f15094639fb4f18bc61e57fefba7...   \n",
       "4  0x8dde0f4ac2de2c39f15094639fb4f18bc61e57fefba7...   \n",
       "\n",
       "                        tx_time  \n",
       "0 2025-04-13 13:22:59.000000000  \n",
       "1 2025-04-13 13:22:59.002146006  \n",
       "2 2025-04-13 13:22:59.004291773  \n",
       "3 2025-04-13 13:22:59.006437778  \n",
       "4 2025-04-13 13:22:59.008583784  "
      ]
     },
     "execution_count": 43,
     "metadata": {},
     "output_type": "execute_result"
    }
   ],
   "source": [
    "test_df_pd_1h = test_df_1h.select([\"gas_price\", \"block_time\", \"block_hash\"]).to_pandas()\n",
    "\n",
    "test_df_pd_1h = add_pseudo_time(test_df_pd_1h)\n",
    "test_df_pd_1h.head()"
   ]
  },
  {
   "cell_type": "code",
   "execution_count": 44,
   "id": "7444a532",
   "metadata": {},
   "outputs": [
    {
     "data": {
      "text/html": [
       "<div>\n",
       "<style scoped>\n",
       "    .dataframe tbody tr th:only-of-type {\n",
       "        vertical-align: middle;\n",
       "    }\n",
       "\n",
       "    .dataframe tbody tr th {\n",
       "        vertical-align: top;\n",
       "    }\n",
       "\n",
       "    .dataframe thead th {\n",
       "        text-align: right;\n",
       "    }\n",
       "</style>\n",
       "<table border=\"1\" class=\"dataframe\">\n",
       "  <thead>\n",
       "    <tr style=\"text-align: right;\">\n",
       "      <th></th>\n",
       "      <th>gas_price</th>\n",
       "      <th>block_time</th>\n",
       "      <th>block_hash</th>\n",
       "      <th>tx_time</th>\n",
       "    </tr>\n",
       "  </thead>\n",
       "  <tbody>\n",
       "    <tr>\n",
       "      <th>0</th>\n",
       "      <td>-0.394365</td>\n",
       "      <td>2025-04-13 12:48:11</td>\n",
       "      <td>0xa2267aa8f7c058206cbda95258ac59dfe8639875e2b2...</td>\n",
       "      <td>2025-04-13 12:48:11.000000000</td>\n",
       "    </tr>\n",
       "    <tr>\n",
       "      <th>1</th>\n",
       "      <td>-0.368419</td>\n",
       "      <td>2025-04-13 12:48:11</td>\n",
       "      <td>0xa2267aa8f7c058206cbda95258ac59dfe8639875e2b2...</td>\n",
       "      <td>2025-04-13 12:48:11.003676414</td>\n",
       "    </tr>\n",
       "    <tr>\n",
       "      <th>2</th>\n",
       "      <td>-0.368403</td>\n",
       "      <td>2025-04-13 12:48:11</td>\n",
       "      <td>0xa2267aa8f7c058206cbda95258ac59dfe8639875e2b2...</td>\n",
       "      <td>2025-04-13 12:48:11.007352829</td>\n",
       "    </tr>\n",
       "    <tr>\n",
       "      <th>3</th>\n",
       "      <td>-0.382128</td>\n",
       "      <td>2025-04-13 12:48:11</td>\n",
       "      <td>0xa2267aa8f7c058206cbda95258ac59dfe8639875e2b2...</td>\n",
       "      <td>2025-04-13 12:48:11.011029482</td>\n",
       "    </tr>\n",
       "    <tr>\n",
       "      <th>4</th>\n",
       "      <td>-0.368403</td>\n",
       "      <td>2025-04-13 12:48:11</td>\n",
       "      <td>0xa2267aa8f7c058206cbda95258ac59dfe8639875e2b2...</td>\n",
       "      <td>2025-04-13 12:48:11.014705896</td>\n",
       "    </tr>\n",
       "  </tbody>\n",
       "</table>\n",
       "</div>"
      ],
      "text/plain": [
       "   gas_price          block_time  \\\n",
       "0  -0.394365 2025-04-13 12:48:11   \n",
       "1  -0.368419 2025-04-13 12:48:11   \n",
       "2  -0.368403 2025-04-13 12:48:11   \n",
       "3  -0.382128 2025-04-13 12:48:11   \n",
       "4  -0.368403 2025-04-13 12:48:11   \n",
       "\n",
       "                                          block_hash  \\\n",
       "0  0xa2267aa8f7c058206cbda95258ac59dfe8639875e2b2...   \n",
       "1  0xa2267aa8f7c058206cbda95258ac59dfe8639875e2b2...   \n",
       "2  0xa2267aa8f7c058206cbda95258ac59dfe8639875e2b2...   \n",
       "3  0xa2267aa8f7c058206cbda95258ac59dfe8639875e2b2...   \n",
       "4  0xa2267aa8f7c058206cbda95258ac59dfe8639875e2b2...   \n",
       "\n",
       "                        tx_time  \n",
       "0 2025-04-13 12:48:11.000000000  \n",
       "1 2025-04-13 12:48:11.003676414  \n",
       "2 2025-04-13 12:48:11.007352829  \n",
       "3 2025-04-13 12:48:11.011029482  \n",
       "4 2025-04-13 12:48:11.014705896  "
      ]
     },
     "execution_count": 44,
     "metadata": {},
     "output_type": "execute_result"
    }
   ],
   "source": [
    "test_df_pd_5m = test_df_5m.select([\"gas_price\", \"block_time\", \"block_hash\"]).to_pandas()\n",
    "\n",
    "test_df_pd_5m = add_pseudo_time(test_df_pd_5m)\n",
    "test_df_pd_5m.head()"
   ]
  },
  {
   "cell_type": "markdown",
   "id": "3d89d6b3",
   "metadata": {},
   "source": [
    "### Prophet"
   ]
  },
  {
   "cell_type": "code",
   "execution_count": 45,
   "id": "7d871cbb",
   "metadata": {},
   "outputs": [],
   "source": [
    "prophet_model = joblib.load(\"../models/prophet/prophet_model.pkl\")"
   ]
  },
  {
   "cell_type": "code",
   "execution_count": 46,
   "id": "b0f68ccf",
   "metadata": {},
   "outputs": [],
   "source": [
    "prophet_forecast_5m = prophet_model.predict(test_df_pd_5m[[\"tx_time\"]].rename(columns={\"tx_time\": \"ds\"}))\n",
    "prophet_forecast_1h = prophet_model.predict(test_df_pd_1h[[\"tx_time\"]].rename(columns={\"tx_time\": \"ds\"}))"
   ]
  },
  {
   "cell_type": "code",
   "execution_count": 47,
   "id": "cee0ea3f",
   "metadata": {},
   "outputs": [],
   "source": [
    "y_true_prophet_1h = test_df_pd_1h[\"gas_price\"].to_numpy()\n",
    "y_pred_prophet_1h = prophet_forecast_1h[\"yhat\"].to_numpy()"
   ]
  },
  {
   "cell_type": "code",
   "execution_count": 48,
   "id": "e47b99ca",
   "metadata": {},
   "outputs": [],
   "source": [
    "y_true_prophet_5m = test_df_pd_5m[\"gas_price\"].to_numpy()\n",
    "y_pred_prophet_5m = prophet_forecast_5m[\"yhat\"].to_numpy()"
   ]
  },
  {
   "cell_type": "code",
   "execution_count": 53,
   "id": "baff0b74",
   "metadata": {},
   "outputs": [
    {
     "name": "stdout",
     "output_type": "stream",
     "text": [
      "{'MAPE': np.float64(149.58715131845756), 'MAE': np.float64(2.912236401877894e-08)}\n"
     ]
    }
   ],
   "source": [
    "y_pred_prophet_matrix_1h = inverted_data[50:, :].copy()\n",
    "y_pred_prophet_matrix_1h[:, 3] = y_pred_prophet_1h.T[0].copy()\n",
    "\n",
    "y_pred_prophet_unscaled_1h = inverse_scale(y_pred_prophet_matrix_1h, scaler)[:, 3]\n",
    "\n",
    "metrics_prophet_unscaled_1h = calculate_metrics(y_true_unscaled[50:], y_pred_prophet_unscaled_1h)\n",
    "print(metrics_prophet_unscaled_1h)"
   ]
  },
  {
   "cell_type": "code",
   "execution_count": 54,
   "id": "d384f0de",
   "metadata": {},
   "outputs": [
    {
     "name": "stdout",
     "output_type": "stream",
     "text": [
      "{'MAPE': np.float64(150.5233931406163), 'MAE': np.float64(2.938325793366939e-08)}\n"
     ]
    }
   ],
   "source": [
    "y_pred_prophet_matrix_5m = inverted_data[50:7348, :].copy()\n",
    "y_pred_prophet_matrix_5m[:, 3] = y_pred_prophet_5m.T[0].copy()\n",
    "\n",
    "y_pred_prophet_unscaled_5m = inverse_scale(y_pred_prophet_matrix_5m, scaler)[:, 3]\n",
    "\n",
    "metrics_prophet_unscaled_5m = calculate_metrics(y_true_unscaled[50:7348], y_pred_prophet_unscaled_5m)\n",
    "print(metrics_prophet_unscaled_5m)"
   ]
  },
  {
   "cell_type": "markdown",
   "id": "f1a6c0ac",
   "metadata": {},
   "source": [
    "### ARIMA"
   ]
  },
  {
   "cell_type": "code",
   "execution_count": 51,
   "id": "c1e12f2a",
   "metadata": {},
   "outputs": [],
   "source": [
    "arima_model = joblib.load(\"../models/arima/arima_model.pkl\")"
   ]
  },
  {
   "cell_type": "code",
   "execution_count": 52,
   "id": "2f121cde",
   "metadata": {},
   "outputs": [],
   "source": [
    "arima_forecast_5m = arima_model.forecast(steps=test_df_pd_5m.shape[0])\n",
    "arima_forecast_1h = arima_model.forecast(steps=test_df_pd_1h.shape[0])"
   ]
  },
  {
   "cell_type": "code",
   "execution_count": 55,
   "id": "7ff480c9",
   "metadata": {},
   "outputs": [],
   "source": [
    "y_true_arima_1h = test_df_pd_1h[\"gas_price\"].to_numpy()\n",
    "y_pred_arima_1h = np.array(arima_forecast_1h)"
   ]
  },
  {
   "cell_type": "code",
   "execution_count": 56,
   "id": "e1b860c1",
   "metadata": {},
   "outputs": [],
   "source": [
    "y_true_arima_5m = test_df_pd_5m[\"gas_price\"].to_numpy()\n",
    "y_pred_arima_5m = np.array(arima_forecast_5m)"
   ]
  },
  {
   "cell_type": "code",
   "execution_count": 58,
   "id": "267ebf52",
   "metadata": {},
   "outputs": [
    {
     "name": "stdout",
     "output_type": "stream",
     "text": [
      "{'MAPE': np.float64(295.2359637165212), 'MAE': np.float64(4.455106689524225e-08)}\n"
     ]
    }
   ],
   "source": [
    "y_pred_arima_matrix_1h = inverted_data[50:, :].copy()\n",
    "y_pred_arima_matrix_1h[:, 3] = y_pred_arima_1h.T[0].copy()\n",
    "\n",
    "y_pred_arima_unscaled_1h = inverse_scale(y_pred_arima_matrix_1h, scaler)[:, 3]\n",
    "\n",
    "metrics_arima_unscaled_1h = calculate_metrics(y_true_unscaled[50:], y_pred_arima_unscaled_1h)\n",
    "print(metrics_arima_unscaled_1h)"
   ]
  },
  {
   "cell_type": "code",
   "execution_count": 59,
   "id": "2cb7dd72",
   "metadata": {},
   "outputs": [
    {
     "name": "stdout",
     "output_type": "stream",
     "text": [
      "{'MAPE': np.float64(296.80281279518096), 'MAE': np.float64(4.4827176037002904e-08)}\n"
     ]
    }
   ],
   "source": [
    "y_pred_arima_matrix_5m = inverted_data[50:7348, :].copy()\n",
    "y_pred_arima_matrix_5m[:, 3] = y_pred_arima_5m.T[0].copy()\n",
    "\n",
    "y_pred_arima_unscaled_5m = inverse_scale(y_pred_arima_matrix_5m, scaler)[:, 3]\n",
    "\n",
    "metrics_arima_unscaled_5m = calculate_metrics(y_true_unscaled[50:7348], y_pred_arima_unscaled_5m)\n",
    "print(metrics_arima_unscaled_5m)"
   ]
  },
  {
   "cell_type": "markdown",
   "id": "8769ccf8",
   "metadata": {},
   "source": [
    "## Final Comparison"
   ]
  },
  {
   "cell_type": "markdown",
   "id": "524df047",
   "metadata": {},
   "source": [
    "Let's check metrics on the unscaled data the next 1 hour"
   ]
  },
  {
   "cell_type": "code",
   "execution_count": 72,
   "id": "70b7087c",
   "metadata": {},
   "outputs": [],
   "source": [
    "results_unscaled_1h = {\n",
    "    # \"rnn\": metrics_rnn_unscaled_1h,\n",
    "    \"rnn\": {'MAPE': np.float32(93.520571), 'MAE': np.float32(2.1094285e-08)},\n",
    "    \"lstm\": metrics_lstm_unscaled_1h,\n",
    "    \"bi-lstm\": metrics_bi_lstm_unscaled_1h,\n",
    "    \"cnn-lstm\": metrics_cnn_lstm_unscaled_1h,\n",
    "    \"attention-lstm\": metrics_attention_lstm_unscaled_1h,\n",
    "    \"prophet\": metrics_prophet_unscaled_1h,\n",
    "    \"arima\": metrics_arima_unscaled_1h\n",
    "}"
   ]
  },
  {
   "cell_type": "code",
   "execution_count": 73,
   "id": "caea43f9",
   "metadata": {},
   "outputs": [],
   "source": [
    "df_quality_unscaled_1h = pd.DataFrame(results_unscaled_1h).T\n",
    "df_quality_unscaled_1h.index.name = \"Model\""
   ]
  },
  {
   "cell_type": "code",
   "execution_count": 74,
   "id": "f90ddc97",
   "metadata": {},
   "outputs": [],
   "source": [
    "df_quality_unscaled_1h[\"MAE\"] = df_quality_unscaled_1h[\"MAE\"].apply(lambda x: f\"{x:.8e}\")"
   ]
  },
  {
   "cell_type": "code",
   "execution_count": 75,
   "id": "0de47941",
   "metadata": {},
   "outputs": [
    {
     "data": {
      "text/html": [
       "<style type=\"text/css\">\n",
       "#T_cd457_row2_col0, #T_cd457_row2_col1 {\n",
       "  background-color: lightgreen;\n",
       "}\n",
       "</style>\n",
       "<table id=\"T_cd457\">\n",
       "  <thead>\n",
       "    <tr>\n",
       "      <th class=\"blank level0\" >&nbsp;</th>\n",
       "      <th id=\"T_cd457_level0_col0\" class=\"col_heading level0 col0\" >MAPE</th>\n",
       "      <th id=\"T_cd457_level0_col1\" class=\"col_heading level0 col1\" >MAE</th>\n",
       "    </tr>\n",
       "    <tr>\n",
       "      <th class=\"index_name level0\" >Model</th>\n",
       "      <th class=\"blank col0\" >&nbsp;</th>\n",
       "      <th class=\"blank col1\" >&nbsp;</th>\n",
       "    </tr>\n",
       "  </thead>\n",
       "  <tbody>\n",
       "    <tr>\n",
       "      <th id=\"T_cd457_level0_row0\" class=\"row_heading level0 row0\" >rnn</th>\n",
       "      <td id=\"T_cd457_row0_col0\" class=\"data row0 col0\" >93.520569</td>\n",
       "      <td id=\"T_cd457_row0_col1\" class=\"data row0 col1\" >2.10942854e-08</td>\n",
       "    </tr>\n",
       "    <tr>\n",
       "      <th id=\"T_cd457_level0_row1\" class=\"row_heading level0 row1\" >lstm</th>\n",
       "      <td id=\"T_cd457_row1_col0\" class=\"data row1 col0\" >91.156605</td>\n",
       "      <td id=\"T_cd457_row1_col1\" class=\"data row1 col1\" >2.08737362e-08</td>\n",
       "    </tr>\n",
       "    <tr>\n",
       "      <th id=\"T_cd457_level0_row2\" class=\"row_heading level0 row2\" >bi-lstm</th>\n",
       "      <td id=\"T_cd457_row2_col0\" class=\"data row2 col0\" >82.897248</td>\n",
       "      <td id=\"T_cd457_row2_col1\" class=\"data row2 col1\" >1.99771214e-08</td>\n",
       "    </tr>\n",
       "    <tr>\n",
       "      <th id=\"T_cd457_level0_row3\" class=\"row_heading level0 row3\" >cnn-lstm</th>\n",
       "      <td id=\"T_cd457_row3_col0\" class=\"data row3 col0\" >84.606403</td>\n",
       "      <td id=\"T_cd457_row3_col1\" class=\"data row3 col1\" >2.01676065e-08</td>\n",
       "    </tr>\n",
       "    <tr>\n",
       "      <th id=\"T_cd457_level0_row4\" class=\"row_heading level0 row4\" >attention-lstm</th>\n",
       "      <td id=\"T_cd457_row4_col0\" class=\"data row4 col0\" >83.265488</td>\n",
       "      <td id=\"T_cd457_row4_col1\" class=\"data row4 col1\" >2.00582019e-08</td>\n",
       "    </tr>\n",
       "    <tr>\n",
       "      <th id=\"T_cd457_level0_row5\" class=\"row_heading level0 row5\" >prophet</th>\n",
       "      <td id=\"T_cd457_row5_col0\" class=\"data row5 col0\" >149.587151</td>\n",
       "      <td id=\"T_cd457_row5_col1\" class=\"data row5 col1\" >2.91223640e-08</td>\n",
       "    </tr>\n",
       "    <tr>\n",
       "      <th id=\"T_cd457_level0_row6\" class=\"row_heading level0 row6\" >arima</th>\n",
       "      <td id=\"T_cd457_row6_col0\" class=\"data row6 col0\" >295.235964</td>\n",
       "      <td id=\"T_cd457_row6_col1\" class=\"data row6 col1\" >4.45510669e-08</td>\n",
       "    </tr>\n",
       "  </tbody>\n",
       "</table>\n"
      ],
      "text/plain": [
       "<pandas.io.formats.style.Styler at 0x1dfe2864f50>"
      ]
     },
     "execution_count": 75,
     "metadata": {},
     "output_type": "execute_result"
    }
   ],
   "source": [
    "styled_df_unscaled_1h = df_quality_unscaled_1h.style.highlight_min(color=\"lightgreen\", axis=0)\n",
    "styled_df_unscaled_1h"
   ]
  },
  {
   "cell_type": "markdown",
   "id": "c9a89b0d",
   "metadata": {},
   "source": [
    "Let's check metrics on the unscaled data the next 5 minutes"
   ]
  },
  {
   "cell_type": "code",
   "execution_count": null,
   "id": "5dfa0c26",
   "metadata": {},
   "outputs": [],
   "source": [
    "results_unscaled_5m = {\n",
    "    # \"rnn\": metrics_rnn_unscaled_5m,\n",
    "    \"rnn\": {'MAPE': np.float32(95.23118), 'MAE': np.float32(2.5627902e-08)},\n",
    "    \"lstm\": metrics_lstm_unscaled_5m,\n",
    "    \"bi-lstm\": metrics_bi_lstm_unscaled_5m,\n",
    "    \"cnn-lstm\": metrics_cnn_lstm_unscaled_5m,\n",
    "    \"attention-lstm\": metrics_attention_lstm_unscaled_5m,\n",
    "    \"prophet\": metrics_prophet_unscaled_5m,\n",
    "    \"arima\": metrics_arima_unscaled_5m\n",
    "}"
   ]
  },
  {
   "cell_type": "code",
   "execution_count": null,
   "id": "c22a393e",
   "metadata": {},
   "outputs": [],
   "source": [
    "df_quality_unscaled_5m = pd.DataFrame(results_unscaled_5m).T\n",
    "df_quality_unscaled_5m.index.name = \"Model\""
   ]
  },
  {
   "cell_type": "code",
   "execution_count": null,
   "id": "406f17ec",
   "metadata": {},
   "outputs": [],
   "source": [
    "df_quality_unscaled_5m[\"MAE\"] = df_quality_unscaled_5m[\"MAE\"].apply(lambda x: f\"{x:.8e}\")"
   ]
  },
  {
   "cell_type": "code",
   "execution_count": null,
   "id": "def97294",
   "metadata": {},
   "outputs": [
    {
     "data": {
      "text/html": [
       "<style type=\"text/css\">\n",
       "#T_e43c8_row2_col1, #T_e43c8_row4_col0 {\n",
       "  background-color: lightgreen;\n",
       "}\n",
       "</style>\n",
       "<table id=\"T_e43c8\">\n",
       "  <thead>\n",
       "    <tr>\n",
       "      <th class=\"blank level0\" >&nbsp;</th>\n",
       "      <th id=\"T_e43c8_level0_col0\" class=\"col_heading level0 col0\" >MAPE</th>\n",
       "      <th id=\"T_e43c8_level0_col1\" class=\"col_heading level0 col1\" >MAE</th>\n",
       "    </tr>\n",
       "    <tr>\n",
       "      <th class=\"index_name level0\" >Model</th>\n",
       "      <th class=\"blank col0\" >&nbsp;</th>\n",
       "      <th class=\"blank col1\" >&nbsp;</th>\n",
       "    </tr>\n",
       "  </thead>\n",
       "  <tbody>\n",
       "    <tr>\n",
       "      <th id=\"T_e43c8_level0_row0\" class=\"row_heading level0 row0\" >rnn</th>\n",
       "      <td id=\"T_e43c8_row0_col0\" class=\"data row0 col0\" >95.231178</td>\n",
       "      <td id=\"T_e43c8_row0_col1\" class=\"data row0 col1\" >2.56279016e-08</td>\n",
       "    </tr>\n",
       "    <tr>\n",
       "      <th id=\"T_e43c8_level0_row1\" class=\"row_heading level0 row1\" >lstm</th>\n",
       "      <td id=\"T_e43c8_row1_col0\" class=\"data row1 col0\" >93.127628</td>\n",
       "      <td id=\"T_e43c8_row1_col1\" class=\"data row1 col1\" >2.13511919e-08</td>\n",
       "    </tr>\n",
       "    <tr>\n",
       "      <th id=\"T_e43c8_level0_row2\" class=\"row_heading level0 row2\" >bi-lstm</th>\n",
       "      <td id=\"T_e43c8_row2_col0\" class=\"data row2 col0\" >83.786646</td>\n",
       "      <td id=\"T_e43c8_row2_col1\" class=\"data row2 col1\" >2.03878021e-08</td>\n",
       "    </tr>\n",
       "    <tr>\n",
       "      <th id=\"T_e43c8_level0_row3\" class=\"row_heading level0 row3\" >cnn-lstm</th>\n",
       "      <td id=\"T_e43c8_row3_col0\" class=\"data row3 col0\" >85.806217</td>\n",
       "      <td id=\"T_e43c8_row3_col1\" class=\"data row3 col1\" >2.07206821e-08</td>\n",
       "    </tr>\n",
       "    <tr>\n",
       "      <th id=\"T_e43c8_level0_row4\" class=\"row_heading level0 row4\" >attention-lstm</th>\n",
       "      <td id=\"T_e43c8_row4_col0\" class=\"data row4 col0\" >83.617822</td>\n",
       "      <td id=\"T_e43c8_row4_col1\" class=\"data row4 col1\" >2.04465925e-08</td>\n",
       "    </tr>\n",
       "    <tr>\n",
       "      <th id=\"T_e43c8_level0_row5\" class=\"row_heading level0 row5\" >prophet</th>\n",
       "      <td id=\"T_e43c8_row5_col0\" class=\"data row5 col0\" >150.523393</td>\n",
       "      <td id=\"T_e43c8_row5_col1\" class=\"data row5 col1\" >2.93832579e-08</td>\n",
       "    </tr>\n",
       "    <tr>\n",
       "      <th id=\"T_e43c8_level0_row6\" class=\"row_heading level0 row6\" >arima</th>\n",
       "      <td id=\"T_e43c8_row6_col0\" class=\"data row6 col0\" >296.802813</td>\n",
       "      <td id=\"T_e43c8_row6_col1\" class=\"data row6 col1\" >4.48271760e-08</td>\n",
       "    </tr>\n",
       "  </tbody>\n",
       "</table>\n"
      ],
      "text/plain": [
       "<pandas.io.formats.style.Styler at 0x1dfe2348c20>"
      ]
     },
     "execution_count": 64,
     "metadata": {},
     "output_type": "execute_result"
    }
   ],
   "source": [
    "styled_df_unscaled_5m = df_quality_unscaled_5m.style.highlight_min(color=\"lightgreen\", axis=0)\n",
    "styled_df_unscaled_5m"
   ]
  },
  {
   "cell_type": "code",
   "execution_count": null,
   "id": "1b4acd99",
   "metadata": {},
   "outputs": [],
   "source": []
  }
 ],
 "metadata": {
  "kernelspec": {
   "display_name": ".venv",
   "language": "python",
   "name": "python3"
  },
  "language_info": {
   "codemirror_mode": {
    "name": "ipython",
    "version": 3
   },
   "file_extension": ".py",
   "mimetype": "text/x-python",
   "name": "python",
   "nbconvert_exporter": "python",
   "pygments_lexer": "ipython3",
   "version": "3.13.3"
  }
 },
 "nbformat": 4,
 "nbformat_minor": 5
}

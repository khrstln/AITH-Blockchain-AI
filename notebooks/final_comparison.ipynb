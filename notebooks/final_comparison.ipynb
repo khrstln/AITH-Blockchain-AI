{
 "cells": [
  {
   "cell_type": "code",
   "execution_count": 154,
   "id": "2bdcc80e",
   "metadata": {},
   "outputs": [],
   "source": [
    "from datetime import timedelta\n",
    "import warnings\n",
    "\n",
    "\n",
    "import polars as pl\n",
    "import pandas as pd\n",
    "import torch\n",
    "import torch.nn as nn\n",
    "from torch.utils.data import Dataset, DataLoader\n",
    "from sklearn.preprocessing import RobustScaler\n",
    "import numpy as np\n",
    "import matplotlib.pyplot as plt\n",
    "from prophet import Prophet\n",
    "from statsmodels.tsa.arima.model import ARIMA\n",
    "import joblib\n",
    "import optuna\n",
    "from datetime import datetime\n",
    "\n",
    "device = \"cuda\" if torch.cuda.is_available() else \"cpu\"\n",
    "\n",
    "warnings.filterwarnings(\"ignore\")"
   ]
  },
  {
   "cell_type": "code",
   "execution_count": 155,
   "id": "d79707e9",
   "metadata": {},
   "outputs": [
    {
     "data": {
      "text/plain": [
       "'cpu'"
      ]
     },
     "execution_count": 155,
     "metadata": {},
     "output_type": "execute_result"
    }
   ],
   "source": [
    "device"
   ]
  },
  {
   "cell_type": "markdown",
   "id": "a2a54147",
   "metadata": {},
   "source": [
    "## Test dataset"
   ]
  },
  {
   "cell_type": "markdown",
   "id": "acfe75fd",
   "metadata": {},
   "source": [
    "Let's calculate metrics on the first 5 minutes of the test part"
   ]
  },
  {
   "cell_type": "code",
   "execution_count": 156,
   "id": "d5990cdb",
   "metadata": {},
   "outputs": [
    {
     "name": "stdout",
     "output_type": "stream",
     "text": [
      "(75570, 14)\n"
     ]
    }
   ],
   "source": [
    "test_df_for_net = pl.read_parquet(\"../data/processed/test.parquet\")\n",
    "print(test_df_for_net.shape)"
   ]
  },
  {
   "cell_type": "code",
   "execution_count": 157,
   "id": "25a408cc",
   "metadata": {},
   "outputs": [
    {
     "name": "stdout",
     "output_type": "stream",
     "text": [
      "(7348, 14)\n"
     ]
    }
   ],
   "source": [
    "test_df_for_net = test_df_for_net[:7348]\n",
    "print(test_df_for_net.shape)"
   ]
  },
  {
   "cell_type": "markdown",
   "id": "4f291fa5",
   "metadata": {},
   "source": [
    "## Models Architectures"
   ]
  },
  {
   "cell_type": "code",
   "execution_count": 158,
   "id": "a405974b",
   "metadata": {},
   "outputs": [],
   "source": [
    "class SequenceDataset(Dataset):\n",
    "    def __init__(self, df: pl.DataFrame, seq_length: int, target_col: str):\n",
    "        self.seq_length = seq_length\n",
    "        feature_columns = [col for col in df.columns if col != target_col]\n",
    "        self.features = df.select(feature_columns).to_numpy()\n",
    "        self.targets = df[target_col].to_numpy()\n",
    "\n",
    "    def __len__(self):\n",
    "        return self.features.shape[0] - self.seq_length\n",
    "\n",
    "    def __getitem__(self, idx):\n",
    "        seq_x = self.features[idx : idx + self.seq_length]\n",
    "        target = self.targets[idx + self.seq_length]\n",
    "        return torch.tensor(seq_x, dtype=torch.float32), torch.tensor([target], dtype=torch.float32)"
   ]
  },
  {
   "cell_type": "code",
   "execution_count": 159,
   "id": "5d22282f",
   "metadata": {},
   "outputs": [],
   "source": [
    "class BasicRNN(nn.Module):\n",
    "    def __init__(\n",
    "        self,\n",
    "        input_size,\n",
    "        hidden_size,\n",
    "        num_layers,\n",
    "        output_size,\n",
    "        dropout_rate=0.5,\n",
    "    ):\n",
    "        super(BasicRNN, self).__init__()\n",
    "        self.rnn = nn.RNN(\n",
    "            input_size,\n",
    "            hidden_size,\n",
    "            num_layers,\n",
    "            batch_first=True,\n",
    "            dropout=dropout_rate if num_layers > 1 else 0,\n",
    "        )\n",
    "        self.dropout = nn.Dropout(dropout_rate)\n",
    "        self.fc = nn.Linear(hidden_size, output_size)\n",
    "\n",
    "    def forward(self, x):\n",
    "        h0 = torch.zeros(self.rnn.num_layers, x.size(0), self.rnn.hidden_size).to(x.device)\n",
    "        out, _ = self.rnn(x, h0)\n",
    "        out = out[:, -1, :]\n",
    "        out = self.dropout(out)\n",
    "        out = self.fc(out)\n",
    "        return out\n",
    "\n",
    "\n",
    "class BasicLSTM(nn.Module):\n",
    "    def __init__(\n",
    "        self,\n",
    "        input_size,\n",
    "        hidden_size,\n",
    "        num_layers,\n",
    "        output_size,\n",
    "        dropout_rate=0.5,\n",
    "    ):\n",
    "        super(BasicLSTM, self).__init__()\n",
    "        self.lstm = nn.LSTM(\n",
    "            input_size,\n",
    "            hidden_size,\n",
    "            num_layers,\n",
    "            batch_first=True,\n",
    "            dropout=dropout_rate if num_layers > 1 else 0,\n",
    "        )\n",
    "        self.dropout = nn.Dropout(dropout_rate)\n",
    "        self.fc = nn.Linear(hidden_size, output_size)\n",
    "\n",
    "    def forward(self, x):\n",
    "        h0 = torch.zeros(self.lstm.num_layers, x.size(0), self.lstm.hidden_size).to(x.device)\n",
    "        c0 = torch.zeros(self.lstm.num_layers, x.size(0), self.lstm.hidden_size).to(x.device)\n",
    "        out, (hn, cn) = self.lstm(x, (h0, c0))\n",
    "        out = out[:, -1, :]\n",
    "        out = self.dropout(out)\n",
    "        out = self.fc(out)\n",
    "        return out\n",
    "\n",
    "\n",
    "class BasicBiLSTM(nn.Module):\n",
    "    def __init__(self, input_size, hidden_size, num_layers, output_size, dropout_rate=0.5):\n",
    "        super(BasicBiLSTM, self).__init__()\n",
    "        self.lstm = nn.LSTM(\n",
    "            input_size,\n",
    "            hidden_size,\n",
    "            num_layers,\n",
    "            batch_first=True,\n",
    "            dropout=dropout_rate if num_layers > 1 else 0,\n",
    "            bidirectional=True,\n",
    "        )\n",
    "        self.dropout = nn.Dropout(dropout_rate)\n",
    "        self.fc = nn.Linear(hidden_size * 2, output_size)\n",
    "\n",
    "    def forward(self, x):\n",
    "        h0 = torch.zeros(self.lstm.num_layers * 2, x.size(0), self.lstm.hidden_size).to(x.device)\n",
    "        c0 = torch.zeros(self.lstm.num_layers * 2, x.size(0), self.lstm.hidden_size).to(x.device)\n",
    "        out, _ = self.lstm(x, (h0, c0))\n",
    "        out = out[:, -1, :]\n",
    "        out = self.dropout(out)\n",
    "        out = self.fc(out)\n",
    "        return out\n",
    "\n",
    "\n",
    "class CNNLSTM(nn.Module):\n",
    "    def __init__(\n",
    "        self,\n",
    "        input_size,\n",
    "        conv_filters=9,\n",
    "        kernel_size=7,\n",
    "        lstm_hidden_size=100,\n",
    "        lstm_num_layers=2,\n",
    "        output_size=1,\n",
    "        dropout_rate=0.5,\n",
    "        padding=True,\n",
    "    ):\n",
    "        super(CNNLSTM, self).__init__()\n",
    "        self.input_size = input_size\n",
    "\n",
    "        pad = kernel_size // 2 if padding else 0\n",
    "        self.conv1d = nn.Conv1d(\n",
    "            in_channels=input_size,\n",
    "            out_channels=input_size * conv_filters,\n",
    "            kernel_size=kernel_size,\n",
    "            groups=input_size,\n",
    "            padding=pad,\n",
    "        )\n",
    "\n",
    "        self.lstm = nn.LSTM(\n",
    "            input_size=input_size * conv_filters,\n",
    "            hidden_size=lstm_hidden_size,\n",
    "            num_layers=lstm_num_layers,\n",
    "            batch_first=True,\n",
    "            dropout=dropout_rate,\n",
    "        )\n",
    "        self.dropout = nn.Dropout(dropout_rate)\n",
    "        self.fc = nn.Linear(lstm_hidden_size, output_size)\n",
    "\n",
    "    def forward(self, x):\n",
    "        x = x.transpose(1, 2)\n",
    "        conv_out = torch.tanh(self.conv1d(x))\n",
    "        conv_out = conv_out.transpose(1, 2)\n",
    "        batch_size = conv_out.size(0)\n",
    "        h0 = torch.zeros(self.lstm.num_layers, batch_size, self.lstm.hidden_size, device=x.device)\n",
    "        c0 = torch.zeros(self.lstm.num_layers, batch_size, self.lstm.hidden_size, device=x.device)\n",
    "        lstm_out, _ = self.lstm(conv_out, (h0, c0))\n",
    "        out = lstm_out[:, -1, :]\n",
    "        out = self.dropout(out)\n",
    "        out = self.fc(out)\n",
    "        return out\n",
    "\n",
    "\n",
    "class AttentionLayer(nn.Module):\n",
    "    def __init__(self, enc_size, dec_size, attn_hidden_size):\n",
    "        super().__init__()\n",
    "        self.linear_enc = nn.Linear(enc_size, attn_hidden_size)\n",
    "        self.linear_dec = nn.Linear(dec_size, attn_hidden_size)\n",
    "        self.linear_out = nn.Linear(attn_hidden_size, 1)\n",
    "        self.softmax = nn.Softmax(dim=-1)\n",
    "\n",
    "    def forward(self, enc, dec, inp_mask):\n",
    "        batch_size, seq_length, _ = enc.shape\n",
    "        query_proj = self.linear_dec(dec).unsqueeze(1)  # (batch, 1, attn_hidden_size)\n",
    "        enc_proj = self.linear_enc(enc)  # (batch, seq_length, attn_hidden_size)\n",
    "        energies = torch.tanh(enc_proj + query_proj)  # (batch, seq_length, attn_hidden_size)\n",
    "        scores = self.linear_out(energies).squeeze(-1)  # (batch, seq_length)\n",
    "\n",
    "        scores = scores.masked_fill(~inp_mask, -1e9)\n",
    "\n",
    "        attn_weights = self.softmax(scores)  # (batch, seq_length)\n",
    "        context = torch.sum(attn_weights.unsqueeze(-1) * enc, dim=1)  # (batch, enc_size)\n",
    "        return context, attn_weights\n",
    "\n",
    "\n",
    "class AttentionLSTM(nn.Module):\n",
    "    def __init__(\n",
    "        self,\n",
    "        input_size,\n",
    "        hidden_size,\n",
    "        num_layers,\n",
    "        attn_hidden_size,\n",
    "        output_size=1,\n",
    "        dropout_rate=0.5,\n",
    "    ):\n",
    "        super(AttentionLSTM, self).__init__()\n",
    "        self.encoder = nn.LSTM(\n",
    "            input_size,\n",
    "            hidden_size,\n",
    "            num_layers,\n",
    "            batch_first=True,\n",
    "            dropout=dropout_rate if num_layers > 1 else 0,\n",
    "        )\n",
    "        self.attention = AttentionLayer(hidden_size, hidden_size, attn_hidden_size)\n",
    "        self.dropout = nn.Dropout(dropout_rate)\n",
    "        self.fc = nn.Linear(hidden_size, output_size)\n",
    "\n",
    "    def forward(self, x, mask=None):\n",
    "        encoder_outputs, (h_n, c_n) = self.encoder(x)\n",
    "        query = h_n[-1]  # (batch, hidden_size)\n",
    "\n",
    "        if mask is None:\n",
    "            mask = torch.ones(encoder_outputs.size(0), encoder_outputs.size(1), dtype=torch.bool, device=x.device)\n",
    "\n",
    "        context, attn_weights = self.attention(encoder_outputs, query, mask)\n",
    "        out = self.dropout(context)\n",
    "        out = self.fc(out)\n",
    "        return out"
   ]
  },
  {
   "cell_type": "markdown",
   "id": "df0d4d75",
   "metadata": {},
   "source": [
    "## Methods for evaluation"
   ]
  },
  {
   "cell_type": "code",
   "execution_count": 160,
   "id": "5c5dc8d0",
   "metadata": {},
   "outputs": [],
   "source": [
    "def evaluate_model(model, dataloader, device):\n",
    "    model.eval()\n",
    "    predictions = []\n",
    "    targets = []\n",
    "    with torch.no_grad():\n",
    "        for seq, target in dataloader:\n",
    "            seq = seq.to(device)\n",
    "            target = target.to(device)\n",
    "            output = model(seq)\n",
    "            predictions.append(output.cpu().numpy())\n",
    "            targets.append(target.cpu().numpy())\n",
    "\n",
    "    predictions = np.concatenate(predictions, axis=0)\n",
    "    targets = np.concatenate(targets, axis=0)\n",
    "    return targets, predictions\n",
    "\n",
    "\n",
    "def plot_predictions(y_true, y_pred, title=\"Predicted vs Actual Gas Price\"):\n",
    "    plt.figure(figsize=(10, 5))\n",
    "    plt.plot(y_true, label=\"Actual\")\n",
    "    plt.plot(y_pred, label=\"Predicted\")\n",
    "    plt.title(title)\n",
    "    plt.xlabel(\"Time step\")\n",
    "    plt.ylabel(\"Gas Price\")\n",
    "    plt.legend()\n",
    "    plt.show()\n",
    "\n",
    "\n",
    "def calculate_metrics(y_true, y_pred):\n",
    "    epsilon = 1e-8\n",
    "    mape = np.mean(np.abs((y_true - y_pred) / (y_true + epsilon))) * 100\n",
    "    mae = np.mean(np.abs(y_true - y_pred))\n",
    "    return {\"MAPE\": mape, \"MAE\": mae}\n",
    "\n",
    "\n",
    "def inverse_scale(scaled_data, scaler):\n",
    "    return scaler.inverse_transform(scaled_data)"
   ]
  },
  {
   "cell_type": "code",
   "execution_count": 161,
   "id": "0218c5c8",
   "metadata": {},
   "outputs": [],
   "source": [
    "# scaler = joblib.load(\"../models/tx_scaler.pkl\")\n",
    "# numeric_cols = ['cost', 'gas', 'gas_fee_cap', 'gas_price']\n",
    "\n",
    "# test_df_numeric = test_df_for_net.select(numeric_cols)\n",
    "# test_df_numeric_pd = test_df_numeric.to_pandas().astype(float)\n",
    "\n",
    "# inverted_data = inverse_scale(test_df_numeric_pd, scaler)\n",
    "\n",
    "# test_df_for_net = test_df_for_net.with_columns(pl.Series(name='cost', values=inverted_data[:, 0]))\n",
    "# test_df_for_net = test_df_for_net.with_columns(pl.Series(name='gas', values=inverted_data[:, 0]))\n",
    "# test_df_for_net = test_df_for_net.with_columns(pl.Series(name='gas_fee_cap', values=inverted_data[:, 0]))\n",
    "# test_df_for_net = test_df_for_net.with_columns(pl.Series(name='gas_price', values=inverted_data[:, 0]))\n",
    "\n",
    "# test_df_for_net.head()"
   ]
  },
  {
   "cell_type": "markdown",
   "id": "e3fc1144",
   "metadata": {},
   "source": [
    "## Common parameters"
   ]
  },
  {
   "cell_type": "code",
   "execution_count": 162,
   "id": "23727215",
   "metadata": {},
   "outputs": [],
   "source": [
    "seq_length = 50\n",
    "target_column = \"gas_price\"\n",
    "batch_size = 64\n",
    "\n",
    "test_dataset = SequenceDataset(test_df_for_net, seq_length, target_column)"
   ]
  },
  {
   "cell_type": "code",
   "execution_count": 163,
   "id": "940bec4e",
   "metadata": {},
   "outputs": [],
   "source": [
    "test_loader = DataLoader(test_dataset, batch_size=batch_size, shuffle=False)"
   ]
  },
  {
   "cell_type": "code",
   "execution_count": 164,
   "id": "7894924c",
   "metadata": {},
   "outputs": [],
   "source": [
    "input_size = test_df_for_net.width - 1\n",
    "output_size = 1"
   ]
  },
  {
   "cell_type": "markdown",
   "id": "8298a2fe",
   "metadata": {},
   "source": [
    "## Models instances "
   ]
  },
  {
   "cell_type": "code",
   "execution_count": 165,
   "id": "687c9c8d",
   "metadata": {},
   "outputs": [],
   "source": [
    "def load_model(model_type, model_path, device, **model_kwargs):\n",
    "    model = model_type(**model_kwargs)\n",
    "    model.load_state_dict(torch.load(model_path, map_location=device))\n",
    "    model.to(device)\n",
    "    model.eval()\n",
    "    return model"
   ]
  },
  {
   "cell_type": "markdown",
   "id": "937a59d1",
   "metadata": {},
   "source": [
    "### RNN"
   ]
  },
  {
   "cell_type": "code",
   "execution_count": 166,
   "id": "a30b875d",
   "metadata": {},
   "outputs": [],
   "source": [
    "hidden_size_rnn = input_size * 4\n",
    "num_layers_rnn = 2"
   ]
  },
  {
   "cell_type": "code",
   "execution_count": null,
   "id": "902c647c",
   "metadata": {},
   "outputs": [],
   "source": [
    "rnn_kwargs = {\n",
    "    \"input_size\": input_size,\n",
    "    \"hidden_size\": hidden_size_rnn,\n",
    "    \"num_layers\": num_layers_rnn,\n",
    "    \"output_size\": output_size,\n",
    "}\n",
    "\n",
    "model_rnn = load_model(BasicRNN, \"../models/rnn/best_model.pt\", device, **rnn_kwargs)"
   ]
  },
  {
   "cell_type": "code",
   "execution_count": 168,
   "id": "d3f7f5c2",
   "metadata": {},
   "outputs": [],
   "source": [
    "y_true_rnn, y_pred_rnn = evaluate_model(model_rnn, test_loader, device)"
   ]
  },
  {
   "cell_type": "code",
   "execution_count": null,
   "id": "d4cd67d3",
   "metadata": {},
   "outputs": [
    {
     "name": "stdout",
     "output_type": "stream",
     "text": [
      "{'MAPE': np.float32(9713.331), 'MAE': np.float32(10.957249)}\n"
     ]
    }
   ],
   "source": [
    "metrics_rnn = calculate_metrics(y_true_rnn, y_pred_rnn)\n",
    "print(metrics_rnn)"
   ]
  },
  {
   "cell_type": "markdown",
   "id": "805b8b50",
   "metadata": {},
   "source": [
    "### LSTM"
   ]
  },
  {
   "cell_type": "code",
   "execution_count": 170,
   "id": "754b8046",
   "metadata": {},
   "outputs": [],
   "source": [
    "hidden_size_lstm = input_size * 4\n",
    "num_layers_lstm = 2"
   ]
  },
  {
   "cell_type": "code",
   "execution_count": 171,
   "id": "5db79977",
   "metadata": {},
   "outputs": [],
   "source": [
    "lstm_kwargs = {\n",
    "    \"input_size\": input_size,\n",
    "    \"hidden_size\": hidden_size_lstm,\n",
    "    \"num_layers\": num_layers_lstm,\n",
    "    \"output_size\": output_size,\n",
    "}\n",
    "\n",
    "model_lstm = load_model(BasicLSTM, \"../models/lstm/best_model.pt\", device, **lstm_kwargs)"
   ]
  },
  {
   "cell_type": "code",
   "execution_count": 172,
   "id": "b772b6c3",
   "metadata": {},
   "outputs": [],
   "source": [
    "y_true_lstm, y_pred_lstm = evaluate_model(model_lstm, test_loader, device)"
   ]
  },
  {
   "cell_type": "code",
   "execution_count": 173,
   "id": "eb513216",
   "metadata": {},
   "outputs": [
    {
     "name": "stdout",
     "output_type": "stream",
     "text": [
      "{'MAPE': np.float32(10876.161), 'MAE': np.float32(10.943139)}\n"
     ]
    }
   ],
   "source": [
    "metrics_lstm = calculate_metrics(y_true_lstm, y_pred_lstm)\n",
    "print(metrics_lstm)"
   ]
  },
  {
   "cell_type": "markdown",
   "id": "093e58ec",
   "metadata": {},
   "source": [
    "### BiLSTM"
   ]
  },
  {
   "cell_type": "code",
   "execution_count": 174,
   "id": "057d13a9",
   "metadata": {},
   "outputs": [],
   "source": [
    "hidden_size_bi_lstm = input_size * 4\n",
    "num_layers_bi_lstm = 2"
   ]
  },
  {
   "cell_type": "code",
   "execution_count": 175,
   "id": "80eb4032",
   "metadata": {},
   "outputs": [],
   "source": [
    "bi_lstm_kwargs = {\n",
    "    \"input_size\": input_size,\n",
    "    \"hidden_size\": hidden_size_bi_lstm,\n",
    "    \"num_layers\": num_layers_bi_lstm,\n",
    "    \"output_size\": output_size,\n",
    "}\n",
    "\n",
    "model_bi_lstm = load_model(BasicBiLSTM, \"../models/bi_lstm/best_model.pt\", device, **bi_lstm_kwargs)"
   ]
  },
  {
   "cell_type": "code",
   "execution_count": 176,
   "id": "3f7e071f",
   "metadata": {},
   "outputs": [],
   "source": [
    "y_true_bi_lstm, y_pred_bi_lstm = evaluate_model(model_bi_lstm, test_loader, device)"
   ]
  },
  {
   "cell_type": "code",
   "execution_count": 177,
   "id": "19a625ce",
   "metadata": {},
   "outputs": [
    {
     "name": "stdout",
     "output_type": "stream",
     "text": [
      "{'MAPE': np.float32(9199.742), 'MAE': np.float32(10.449373)}\n"
     ]
    }
   ],
   "source": [
    "metrics_bi_lstm = calculate_metrics(y_true_bi_lstm, y_pred_bi_lstm)\n",
    "print(metrics_bi_lstm)"
   ]
  },
  {
   "cell_type": "markdown",
   "id": "6a9565e9",
   "metadata": {},
   "source": [
    "### CNN LSTM"
   ]
  },
  {
   "cell_type": "code",
   "execution_count": 178,
   "id": "9951f6b1",
   "metadata": {},
   "outputs": [],
   "source": [
    "lstm_cnn_conv_filters = 9\n",
    "lstm_cnn_kernel_size = 7\n",
    "lstm_cnn_hidden_size = input_size * 4\n",
    "lstm_cnn_num_layers = 2"
   ]
  },
  {
   "cell_type": "code",
   "execution_count": 179,
   "id": "dfc3e22e",
   "metadata": {},
   "outputs": [],
   "source": [
    "cnn_lstm_kwargs = {\n",
    "    \"input_size\": input_size,\n",
    "    \"conv_filters\": lstm_cnn_conv_filters,\n",
    "    \"kernel_size\": lstm_cnn_kernel_size,\n",
    "    \"lstm_hidden_size\": lstm_cnn_hidden_size,\n",
    "    \"lstm_num_layers\": lstm_cnn_num_layers,\n",
    "    \"output_size\": output_size,\n",
    "}\n",
    "\n",
    "model_cnn_lstm = load_model(CNNLSTM, \"../models/cnn_lstm/best_model.pt\", device, **cnn_lstm_kwargs)"
   ]
  },
  {
   "cell_type": "code",
   "execution_count": 180,
   "id": "9a61ef56",
   "metadata": {},
   "outputs": [],
   "source": [
    "y_true_cnn_lstm, y_pred_cnn_lstm = evaluate_model(model_cnn_lstm, test_loader, device)"
   ]
  },
  {
   "cell_type": "code",
   "execution_count": 181,
   "id": "cb882531",
   "metadata": {},
   "outputs": [
    {
     "name": "stdout",
     "output_type": "stream",
     "text": [
      "{'MAPE': np.float32(9886.766), 'MAE': np.float32(10.619984)}\n"
     ]
    }
   ],
   "source": [
    "metrics_cnn_lstm = calculate_metrics(y_true_cnn_lstm, y_pred_cnn_lstm)\n",
    "print(metrics_cnn_lstm)"
   ]
  },
  {
   "cell_type": "markdown",
   "id": "fc825a20",
   "metadata": {},
   "source": [
    "### Attention LSTM"
   ]
  },
  {
   "cell_type": "code",
   "execution_count": 182,
   "id": "2a1768fd",
   "metadata": {},
   "outputs": [],
   "source": [
    "hidden_size_attention_lstm = input_size * 4\n",
    "num_layers_attention_lstm = 2"
   ]
  },
  {
   "cell_type": "code",
   "execution_count": 183,
   "id": "f88c3ef1",
   "metadata": {},
   "outputs": [],
   "source": [
    "attention_lstm_kwargs = {\n",
    "    \"input_size\": input_size,\n",
    "    \"hidden_size\": hidden_size_attention_lstm,\n",
    "    \"num_layers\": num_layers_attention_lstm,\n",
    "    \"attn_hidden_size\": output_size,\n",
    "    \"output_size\": output_size,\n",
    "}\n",
    "\n",
    "model_attention_lstm = load_model(AttentionLSTM, \"../models/attention_lstm/best_model.pt\", device, **attention_lstm_kwargs)"
   ]
  },
  {
   "cell_type": "code",
   "execution_count": 184,
   "id": "ddada857",
   "metadata": {},
   "outputs": [],
   "source": [
    "y_true_attention_lstm, y_pred_attention_lstm = evaluate_model(model_attention_lstm, test_loader, device)"
   ]
  },
  {
   "cell_type": "code",
   "execution_count": 185,
   "id": "9153be5e",
   "metadata": {},
   "outputs": [
    {
     "name": "stdout",
     "output_type": "stream",
     "text": [
      "{'MAPE': np.float32(8839.676), 'MAE': np.float32(10.479506)}\n"
     ]
    }
   ],
   "source": [
    "metrics_attention_lstm = calculate_metrics(y_true_attention_lstm, y_pred_attention_lstm)\n",
    "print(metrics_attention_lstm)"
   ]
  },
  {
   "cell_type": "markdown",
   "id": "1e71a6a6",
   "metadata": {},
   "source": [
    "Let's prepare test data for `Prophet` and `ARIMA`"
   ]
  },
  {
   "cell_type": "code",
   "execution_count": 186,
   "id": "b389a32a",
   "metadata": {},
   "outputs": [],
   "source": [
    "df_full_ticks = pl.read_parquet(\"../data/processed/tx_blocks_eth_clean.parquet\")"
   ]
  },
  {
   "cell_type": "code",
   "execution_count": 187,
   "id": "5af2612d",
   "metadata": {},
   "outputs": [
    {
     "data": {
      "text/plain": [
       "(datetime.datetime(2025, 4, 13, 12, 43, 23),\n",
       " datetime.datetime(2025, 4, 13, 11, 43, 23))"
      ]
     },
     "execution_count": 187,
     "metadata": {},
     "output_type": "execute_result"
    }
   ],
   "source": [
    "max_time = df_full_ticks[\"tx_time\"].max()\n",
    "test_threshold = max_time - timedelta(hours=1)\n",
    "val_threshold = test_threshold - timedelta(hours=1)\n",
    "\n",
    "test_threshold, val_threshold"
   ]
  },
  {
   "cell_type": "code",
   "execution_count": 188,
   "id": "c9c710f2",
   "metadata": {},
   "outputs": [],
   "source": [
    "df_blocks = df_full_ticks.group_by(\"block_hash\").agg(pl.col(\"tx_time\").min().alias(\"block_time\"))"
   ]
  },
  {
   "cell_type": "code",
   "execution_count": 189,
   "id": "5f5d3d73",
   "metadata": {},
   "outputs": [],
   "source": [
    "df = df_full_ticks.join(df_blocks, on=\"block_hash\", how=\"left\")"
   ]
  },
  {
   "cell_type": "code",
   "execution_count": 190,
   "id": "75480fc8",
   "metadata": {},
   "outputs": [
    {
     "data": {
      "text/plain": [
       "(75570, 20)"
      ]
     },
     "execution_count": 190,
     "metadata": {},
     "output_type": "execute_result"
    }
   ],
   "source": [
    "test_df = df.filter(pl.col(\"block_time\") >= test_threshold)\n",
    "test_df.shape"
   ]
  },
  {
   "cell_type": "code",
   "execution_count": 191,
   "id": "63af7c6c",
   "metadata": {},
   "outputs": [],
   "source": [
    "min_test_time = test_df[\"block_time\"].min()\n",
    "threshold = min_test_time + timedelta(minutes=5)"
   ]
  },
  {
   "cell_type": "code",
   "execution_count": 192,
   "id": "11498b12",
   "metadata": {},
   "outputs": [
    {
     "name": "stdout",
     "output_type": "stream",
     "text": [
      "(7348, 20)\n"
     ]
    }
   ],
   "source": [
    "test_df = test_df.filter(pl.col(\"block_time\") < threshold)\n",
    "print(test_df.shape)"
   ]
  },
  {
   "cell_type": "code",
   "execution_count": 193,
   "id": "7407dc39",
   "metadata": {},
   "outputs": [],
   "source": [
    "def add_pseudo_time(df: pd.DataFrame) -> pd.DataFrame:\n",
    "    df_copy = df.copy(deep=True)\n",
    "\n",
    "    df_copy[\"block_time\"] = pd.to_datetime(df_copy[\"block_time\"], unit=\"s\")\n",
    "    df_copy[\"block_timestamp\"] = df_copy[\"block_time\"].astype(\"int\") // 10**6\n",
    "\n",
    "    df_copy[\"n_in_block\"] = df_copy.groupby(\"block_hash\")[\"block_hash\"].transform(\"count\")\n",
    "    df_copy[\"tx_index_in_block\"] = df_copy.groupby(\"block_hash\").cumcount()\n",
    "\n",
    "    df_copy[\"tx_timestamp\"] = df_copy[\"block_timestamp\"] + df_copy[\"tx_index_in_block\"] / df_copy[\"n_in_block\"]\n",
    "\n",
    "    df_copy[\"tx_time\"] = pd.to_datetime(df_copy[\"tx_timestamp\"], unit=\"s\")\n",
    "    \n",
    "    df_copy = df_copy.drop(columns=[\n",
    "        \"block_timestamp\", \"tx_index_in_block\", \"n_in_block\", \"tx_timestamp\"\n",
    "    ])\n",
    "\n",
    "    return df_copy"
   ]
  },
  {
   "cell_type": "code",
   "execution_count": 194,
   "id": "7444a532",
   "metadata": {},
   "outputs": [
    {
     "data": {
      "text/html": [
       "<div>\n",
       "<style scoped>\n",
       "    .dataframe tbody tr th:only-of-type {\n",
       "        vertical-align: middle;\n",
       "    }\n",
       "\n",
       "    .dataframe tbody tr th {\n",
       "        vertical-align: top;\n",
       "    }\n",
       "\n",
       "    .dataframe thead th {\n",
       "        text-align: right;\n",
       "    }\n",
       "</style>\n",
       "<table border=\"1\" class=\"dataframe\">\n",
       "  <thead>\n",
       "    <tr style=\"text-align: right;\">\n",
       "      <th></th>\n",
       "      <th>gas_price</th>\n",
       "      <th>block_time</th>\n",
       "      <th>block_hash</th>\n",
       "      <th>tx_time</th>\n",
       "    </tr>\n",
       "  </thead>\n",
       "  <tbody>\n",
       "    <tr>\n",
       "      <th>0</th>\n",
       "      <td>-0.394365</td>\n",
       "      <td>2025-04-13 12:48:11</td>\n",
       "      <td>0xa2267aa8f7c058206cbda95258ac59dfe8639875e2b2...</td>\n",
       "      <td>2025-04-13 12:48:11.000000000</td>\n",
       "    </tr>\n",
       "    <tr>\n",
       "      <th>1</th>\n",
       "      <td>-0.368419</td>\n",
       "      <td>2025-04-13 12:48:11</td>\n",
       "      <td>0xa2267aa8f7c058206cbda95258ac59dfe8639875e2b2...</td>\n",
       "      <td>2025-04-13 12:48:11.003676414</td>\n",
       "    </tr>\n",
       "    <tr>\n",
       "      <th>2</th>\n",
       "      <td>-0.368403</td>\n",
       "      <td>2025-04-13 12:48:11</td>\n",
       "      <td>0xa2267aa8f7c058206cbda95258ac59dfe8639875e2b2...</td>\n",
       "      <td>2025-04-13 12:48:11.007352829</td>\n",
       "    </tr>\n",
       "    <tr>\n",
       "      <th>3</th>\n",
       "      <td>-0.382128</td>\n",
       "      <td>2025-04-13 12:48:11</td>\n",
       "      <td>0xa2267aa8f7c058206cbda95258ac59dfe8639875e2b2...</td>\n",
       "      <td>2025-04-13 12:48:11.011029482</td>\n",
       "    </tr>\n",
       "    <tr>\n",
       "      <th>4</th>\n",
       "      <td>-0.368403</td>\n",
       "      <td>2025-04-13 12:48:11</td>\n",
       "      <td>0xa2267aa8f7c058206cbda95258ac59dfe8639875e2b2...</td>\n",
       "      <td>2025-04-13 12:48:11.014705896</td>\n",
       "    </tr>\n",
       "  </tbody>\n",
       "</table>\n",
       "</div>"
      ],
      "text/plain": [
       "   gas_price          block_time  \\\n",
       "0  -0.394365 2025-04-13 12:48:11   \n",
       "1  -0.368419 2025-04-13 12:48:11   \n",
       "2  -0.368403 2025-04-13 12:48:11   \n",
       "3  -0.382128 2025-04-13 12:48:11   \n",
       "4  -0.368403 2025-04-13 12:48:11   \n",
       "\n",
       "                                          block_hash  \\\n",
       "0  0xa2267aa8f7c058206cbda95258ac59dfe8639875e2b2...   \n",
       "1  0xa2267aa8f7c058206cbda95258ac59dfe8639875e2b2...   \n",
       "2  0xa2267aa8f7c058206cbda95258ac59dfe8639875e2b2...   \n",
       "3  0xa2267aa8f7c058206cbda95258ac59dfe8639875e2b2...   \n",
       "4  0xa2267aa8f7c058206cbda95258ac59dfe8639875e2b2...   \n",
       "\n",
       "                        tx_time  \n",
       "0 2025-04-13 12:48:11.000000000  \n",
       "1 2025-04-13 12:48:11.003676414  \n",
       "2 2025-04-13 12:48:11.007352829  \n",
       "3 2025-04-13 12:48:11.011029482  \n",
       "4 2025-04-13 12:48:11.014705896  "
      ]
     },
     "execution_count": 194,
     "metadata": {},
     "output_type": "execute_result"
    }
   ],
   "source": [
    "test_df_pd = test_df.select([\"gas_price\", \"block_time\", \"block_hash\"]).to_pandas()\n",
    "\n",
    "test_df_pd = add_pseudo_time(test_df_pd)\n",
    "test_df_pd.head()"
   ]
  },
  {
   "cell_type": "markdown",
   "id": "3d89d6b3",
   "metadata": {},
   "source": [
    "### Prophet"
   ]
  },
  {
   "cell_type": "code",
   "execution_count": 195,
   "id": "7d871cbb",
   "metadata": {},
   "outputs": [],
   "source": [
    "prophet_model = joblib.load(\"../models/prophet/prophet_model.pkl\")"
   ]
  },
  {
   "cell_type": "code",
   "execution_count": 196,
   "id": "b0f68ccf",
   "metadata": {},
   "outputs": [],
   "source": [
    "prophet_forecast = prophet_model.predict(test_df_pd[[\"tx_time\"]].rename(columns={\"tx_time\": \"ds\"}))"
   ]
  },
  {
   "cell_type": "code",
   "execution_count": 197,
   "id": "e47b99ca",
   "metadata": {},
   "outputs": [],
   "source": [
    "y_true_prophet = test_df_pd[\"gas_price\"].to_numpy()\n",
    "y_pred_prophet = prophet_forecast[\"yhat\"].to_numpy()"
   ]
  },
  {
   "cell_type": "code",
   "execution_count": 198,
   "id": "baff0b74",
   "metadata": {},
   "outputs": [
    {
     "data": {
      "text/plain": [
       "{'MAPE': np.float64(13346.916054122426), 'MAE': np.float64(14.432151873020732)}"
      ]
     },
     "execution_count": 198,
     "metadata": {},
     "output_type": "execute_result"
    }
   ],
   "source": [
    "metrics_prophet = calculate_metrics(y_true_prophet, y_pred_prophet)\n",
    "metrics_prophet"
   ]
  },
  {
   "cell_type": "markdown",
   "id": "f1a6c0ac",
   "metadata": {},
   "source": [
    "### ARIMA"
   ]
  },
  {
   "cell_type": "code",
   "execution_count": 199,
   "id": "c1e12f2a",
   "metadata": {},
   "outputs": [],
   "source": [
    "arima_model = joblib.load(\"../models/arima/arima_model.pkl\")"
   ]
  },
  {
   "cell_type": "code",
   "execution_count": 200,
   "id": "2f121cde",
   "metadata": {},
   "outputs": [],
   "source": [
    "arima_forecast = arima_model.forecast(steps=test_df_pd.shape[0])"
   ]
  },
  {
   "cell_type": "code",
   "execution_count": 201,
   "id": "e1b860c1",
   "metadata": {},
   "outputs": [],
   "source": [
    "y_true_arima = test_df_pd[\"gas_price\"].to_numpy()\n",
    "y_pred_arima = np.array(arima_forecast)"
   ]
  },
  {
   "cell_type": "code",
   "execution_count": 202,
   "id": "267ebf52",
   "metadata": {},
   "outputs": [
    {
     "data": {
      "text/plain": [
       "{'MAPE': np.float64(10845.863122073524), 'MAE': np.float64(12.963684445587745)}"
      ]
     },
     "execution_count": 202,
     "metadata": {},
     "output_type": "execute_result"
    }
   ],
   "source": [
    "metrics_arima = calculate_metrics(y_true_arima, y_pred_arima)\n",
    "metrics_arima"
   ]
  },
  {
   "cell_type": "markdown",
   "id": "8769ccf8",
   "metadata": {},
   "source": [
    "## Final Comparison"
   ]
  },
  {
   "cell_type": "code",
   "execution_count": null,
   "id": "70b7087c",
   "metadata": {},
   "outputs": [],
   "source": [
    "results = {\n",
    "    \"rnn\": metrics_rnn,\n",
    "    \"lstm\": metrics_lstm,\n",
    "    \"bi-lstm\": metrics_bi_lstm,\n",
    "    \"cnn-lstm\": metrics_cnn_lstm,\n",
    "    \"attention-lstm\": metrics_attention_lstm,\n",
    "    \"prophet\": metrics_prophet,\n",
    "    \"arima\": metrics_arima\n",
    "}"
   ]
  },
  {
   "cell_type": "code",
   "execution_count": 204,
   "id": "caea43f9",
   "metadata": {},
   "outputs": [],
   "source": [
    "df_quality = pd.DataFrame(results).T\n",
    "df_quality.index.name = \"Model\""
   ]
  },
  {
   "cell_type": "code",
   "execution_count": 205,
   "id": "0de47941",
   "metadata": {},
   "outputs": [
    {
     "data": {
      "text/html": [
       "<style type=\"text/css\">\n",
       "#T_6e7b0_row2_col1, #T_6e7b0_row4_col0 {\n",
       "  background-color: lightgreen;\n",
       "}\n",
       "</style>\n",
       "<table id=\"T_6e7b0\">\n",
       "  <thead>\n",
       "    <tr>\n",
       "      <th class=\"blank level0\" >&nbsp;</th>\n",
       "      <th id=\"T_6e7b0_level0_col0\" class=\"col_heading level0 col0\" >MAPE</th>\n",
       "      <th id=\"T_6e7b0_level0_col1\" class=\"col_heading level0 col1\" >MAE</th>\n",
       "    </tr>\n",
       "    <tr>\n",
       "      <th class=\"index_name level0\" >Model</th>\n",
       "      <th class=\"blank col0\" >&nbsp;</th>\n",
       "      <th class=\"blank col1\" >&nbsp;</th>\n",
       "    </tr>\n",
       "  </thead>\n",
       "  <tbody>\n",
       "    <tr>\n",
       "      <th id=\"T_6e7b0_level0_row0\" class=\"row_heading level0 row0\" >rnn</th>\n",
       "      <td id=\"T_6e7b0_row0_col0\" class=\"data row0 col0\" >9713.331055</td>\n",
       "      <td id=\"T_6e7b0_row0_col1\" class=\"data row0 col1\" >10.957249</td>\n",
       "    </tr>\n",
       "    <tr>\n",
       "      <th id=\"T_6e7b0_level0_row1\" class=\"row_heading level0 row1\" >lstm</th>\n",
       "      <td id=\"T_6e7b0_row1_col0\" class=\"data row1 col0\" >10876.161133</td>\n",
       "      <td id=\"T_6e7b0_row1_col1\" class=\"data row1 col1\" >10.943139</td>\n",
       "    </tr>\n",
       "    <tr>\n",
       "      <th id=\"T_6e7b0_level0_row2\" class=\"row_heading level0 row2\" >bi-lstm</th>\n",
       "      <td id=\"T_6e7b0_row2_col0\" class=\"data row2 col0\" >9199.742188</td>\n",
       "      <td id=\"T_6e7b0_row2_col1\" class=\"data row2 col1\" >10.449373</td>\n",
       "    </tr>\n",
       "    <tr>\n",
       "      <th id=\"T_6e7b0_level0_row3\" class=\"row_heading level0 row3\" >cnn-lstm</th>\n",
       "      <td id=\"T_6e7b0_row3_col0\" class=\"data row3 col0\" >9886.765625</td>\n",
       "      <td id=\"T_6e7b0_row3_col1\" class=\"data row3 col1\" >10.619984</td>\n",
       "    </tr>\n",
       "    <tr>\n",
       "      <th id=\"T_6e7b0_level0_row4\" class=\"row_heading level0 row4\" >attention-lstm</th>\n",
       "      <td id=\"T_6e7b0_row4_col0\" class=\"data row4 col0\" >8839.675781</td>\n",
       "      <td id=\"T_6e7b0_row4_col1\" class=\"data row4 col1\" >10.479506</td>\n",
       "    </tr>\n",
       "    <tr>\n",
       "      <th id=\"T_6e7b0_level0_row5\" class=\"row_heading level0 row5\" >prophet</th>\n",
       "      <td id=\"T_6e7b0_row5_col0\" class=\"data row5 col0\" >13346.916054</td>\n",
       "      <td id=\"T_6e7b0_row5_col1\" class=\"data row5 col1\" >14.432152</td>\n",
       "    </tr>\n",
       "    <tr>\n",
       "      <th id=\"T_6e7b0_level0_row6\" class=\"row_heading level0 row6\" >arima</th>\n",
       "      <td id=\"T_6e7b0_row6_col0\" class=\"data row6 col0\" >10845.863122</td>\n",
       "      <td id=\"T_6e7b0_row6_col1\" class=\"data row6 col1\" >12.963684</td>\n",
       "    </tr>\n",
       "  </tbody>\n",
       "</table>\n"
      ],
      "text/plain": [
       "<pandas.io.formats.style.Styler at 0x22617e6f610>"
      ]
     },
     "execution_count": 205,
     "metadata": {},
     "output_type": "execute_result"
    }
   ],
   "source": [
    "styled_df = df_quality.style.highlight_min(color=\"lightgreen\", axis=0)\n",
    "styled_df"
   ]
  },
  {
   "cell_type": "code",
   "execution_count": null,
   "id": "c22a393e",
   "metadata": {},
   "outputs": [],
   "source": []
  }
 ],
 "metadata": {
  "kernelspec": {
   "display_name": ".venv",
   "language": "python",
   "name": "python3"
  },
  "language_info": {
   "codemirror_mode": {
    "name": "ipython",
    "version": 3
   },
   "file_extension": ".py",
   "mimetype": "text/x-python",
   "name": "python",
   "nbconvert_exporter": "python",
   "pygments_lexer": "ipython3",
   "version": "3.13.3"
  }
 },
 "nbformat": 4,
 "nbformat_minor": 5
}
